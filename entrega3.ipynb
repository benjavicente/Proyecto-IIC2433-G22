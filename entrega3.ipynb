{
  "nbformat": 4,
  "nbformat_minor": 0,
  "metadata": {
    "colab": {
      "name": "entrega3.ipynb",
      "provenance": [],
      "collapsed_sections": []
    },
    "kernelspec": {
      "name": "python3",
      "display_name": "Python 3"
    },
    "language_info": {
      "name": "python"
    }
  },
  "cells": [
    {
      "cell_type": "markdown",
      "source": [
        "# **Entrega 3 código - Proyecto IIC2433 Minería de Datos**\n",
        "\n",
        "**Grupo: 22**\n",
        "\n",
        "Integrantes:\n",
        "\n",
        "* Daniela Corral: 18637019\n",
        "* Matías Masjuan: 18639399\n",
        "* Belén Silva: 18627390\n",
        "* Benjamín Vicente: 19637381"
      ],
      "metadata": {
        "id": "Fw3sEJ3sgXix"
      }
    },
    {
      "cell_type": "markdown",
      "source": [
        "# 0) Instalación de dependencias"
      ],
      "metadata": {
        "id": "pdrHhZ1kgaqf"
      }
    },
    {
      "cell_type": "code",
      "source": [
        "# Esto puede ser ignorado si existen los archivos text.npy y text-title.npy\n",
        "!python -m spacy download en_core_web_lg \n",
        "!pip install diskcache"
      ],
      "metadata": {
        "colab": {
          "base_uri": "https://localhost:8080/"
        },
        "id": "D2VyEfTnhIL7",
        "outputId": "9d4b7c57-3391-40c0-d118-f9f7a2fbb904"
      },
      "execution_count": null,
      "outputs": [
        {
          "output_type": "stream",
          "name": "stdout",
          "text": [
            "Collecting en_core_web_lg==2.2.5\n",
            "  Downloading https://github.com/explosion/spacy-models/releases/download/en_core_web_lg-2.2.5/en_core_web_lg-2.2.5.tar.gz (827.9 MB)\n",
            "\u001b[K     |████████████████████████████████| 827.9 MB 1.2 MB/s \n",
            "\u001b[?25hRequirement already satisfied: spacy>=2.2.2 in /usr/local/lib/python3.7/dist-packages (from en_core_web_lg==2.2.5) (2.2.4)\n",
            "Requirement already satisfied: tqdm<5.0.0,>=4.38.0 in /usr/local/lib/python3.7/dist-packages (from spacy>=2.2.2->en_core_web_lg==2.2.5) (4.62.3)\n",
            "Requirement already satisfied: murmurhash<1.1.0,>=0.28.0 in /usr/local/lib/python3.7/dist-packages (from spacy>=2.2.2->en_core_web_lg==2.2.5) (1.0.6)\n",
            "Requirement already satisfied: catalogue<1.1.0,>=0.0.7 in /usr/local/lib/python3.7/dist-packages (from spacy>=2.2.2->en_core_web_lg==2.2.5) (1.0.0)\n",
            "Requirement already satisfied: wasabi<1.1.0,>=0.4.0 in /usr/local/lib/python3.7/dist-packages (from spacy>=2.2.2->en_core_web_lg==2.2.5) (0.8.2)\n",
            "Requirement already satisfied: srsly<1.1.0,>=1.0.2 in /usr/local/lib/python3.7/dist-packages (from spacy>=2.2.2->en_core_web_lg==2.2.5) (1.0.5)\n",
            "Requirement already satisfied: cymem<2.1.0,>=2.0.2 in /usr/local/lib/python3.7/dist-packages (from spacy>=2.2.2->en_core_web_lg==2.2.5) (2.0.6)\n",
            "Requirement already satisfied: blis<0.5.0,>=0.4.0 in /usr/local/lib/python3.7/dist-packages (from spacy>=2.2.2->en_core_web_lg==2.2.5) (0.4.1)\n",
            "Requirement already satisfied: setuptools in /usr/local/lib/python3.7/dist-packages (from spacy>=2.2.2->en_core_web_lg==2.2.5) (57.4.0)\n",
            "Requirement already satisfied: numpy>=1.15.0 in /usr/local/lib/python3.7/dist-packages (from spacy>=2.2.2->en_core_web_lg==2.2.5) (1.19.5)\n",
            "Requirement already satisfied: thinc==7.4.0 in /usr/local/lib/python3.7/dist-packages (from spacy>=2.2.2->en_core_web_lg==2.2.5) (7.4.0)\n",
            "Requirement already satisfied: plac<1.2.0,>=0.9.6 in /usr/local/lib/python3.7/dist-packages (from spacy>=2.2.2->en_core_web_lg==2.2.5) (1.1.3)\n",
            "Requirement already satisfied: preshed<3.1.0,>=3.0.2 in /usr/local/lib/python3.7/dist-packages (from spacy>=2.2.2->en_core_web_lg==2.2.5) (3.0.6)\n",
            "Requirement already satisfied: requests<3.0.0,>=2.13.0 in /usr/local/lib/python3.7/dist-packages (from spacy>=2.2.2->en_core_web_lg==2.2.5) (2.23.0)\n",
            "Requirement already satisfied: importlib-metadata>=0.20 in /usr/local/lib/python3.7/dist-packages (from catalogue<1.1.0,>=0.0.7->spacy>=2.2.2->en_core_web_lg==2.2.5) (4.8.2)\n",
            "Requirement already satisfied: zipp>=0.5 in /usr/local/lib/python3.7/dist-packages (from importlib-metadata>=0.20->catalogue<1.1.0,>=0.0.7->spacy>=2.2.2->en_core_web_lg==2.2.5) (3.6.0)\n",
            "Requirement already satisfied: typing-extensions>=3.6.4 in /usr/local/lib/python3.7/dist-packages (from importlib-metadata>=0.20->catalogue<1.1.0,>=0.0.7->spacy>=2.2.2->en_core_web_lg==2.2.5) (3.10.0.2)\n",
            "Requirement already satisfied: urllib3!=1.25.0,!=1.25.1,<1.26,>=1.21.1 in /usr/local/lib/python3.7/dist-packages (from requests<3.0.0,>=2.13.0->spacy>=2.2.2->en_core_web_lg==2.2.5) (1.24.3)\n",
            "Requirement already satisfied: chardet<4,>=3.0.2 in /usr/local/lib/python3.7/dist-packages (from requests<3.0.0,>=2.13.0->spacy>=2.2.2->en_core_web_lg==2.2.5) (3.0.4)\n",
            "Requirement already satisfied: idna<3,>=2.5 in /usr/local/lib/python3.7/dist-packages (from requests<3.0.0,>=2.13.0->spacy>=2.2.2->en_core_web_lg==2.2.5) (2.10)\n",
            "Requirement already satisfied: certifi>=2017.4.17 in /usr/local/lib/python3.7/dist-packages (from requests<3.0.0,>=2.13.0->spacy>=2.2.2->en_core_web_lg==2.2.5) (2021.10.8)\n",
            "Building wheels for collected packages: en-core-web-lg\n",
            "  Building wheel for en-core-web-lg (setup.py) ... \u001b[?25l\u001b[?25hdone\n",
            "  Created wheel for en-core-web-lg: filename=en_core_web_lg-2.2.5-py3-none-any.whl size=829180942 sha256=c8697a54342f6a9a360dbf77c19b254cbb2e4fc924dce9c8cf3379521c5fff78\n",
            "  Stored in directory: /tmp/pip-ephem-wheel-cache-n7k_jkuo/wheels/11/95/ba/2c36cc368c0bd339b44a791c2c1881a1fb714b78c29a4cb8f5\n",
            "Successfully built en-core-web-lg\n",
            "Installing collected packages: en-core-web-lg\n",
            "Successfully installed en-core-web-lg-2.2.5\n",
            "\u001b[38;5;2m✔ Download and installation successful\u001b[0m\n",
            "You can now load the model via spacy.load('en_core_web_lg')\n",
            "Collecting diskcache\n",
            "  Downloading diskcache-5.3.0-py3-none-any.whl (44 kB)\n",
            "\u001b[K     |████████████████████████████████| 44 kB 2.2 MB/s \n",
            "\u001b[?25hInstalling collected packages: diskcache\n",
            "Successfully installed diskcache-5.3.0\n"
          ]
        }
      ]
    },
    {
      "cell_type": "code",
      "source": [
        "!python -m spacy validate"
      ],
      "metadata": {
        "colab": {
          "base_uri": "https://localhost:8080/"
        },
        "id": "Dude_-WghrhL",
        "outputId": "70b9fc0f-6cf2-42fa-aaaa-e6677ed7f574"
      },
      "execution_count": null,
      "outputs": [
        {
          "output_type": "stream",
          "name": "stdout",
          "text": [
            "\r⠙ Loading compatibility table...\r\u001b[2K\u001b[38;5;2m✔ Loaded compatibility table\u001b[0m\n",
            "\u001b[1m\n",
            "====================== Installed models (spaCy v2.2.4) ======================\u001b[0m\n",
            "\u001b[38;5;4mℹ spaCy installation: /usr/local/lib/python3.7/dist-packages/spacy\u001b[0m\n",
            "\n",
            "TYPE      NAME             MODEL            VERSION                            \n",
            "package   en-core-web-sm   en_core_web_sm   \u001b[38;5;2m2.2.5\u001b[0m   \u001b[38;5;2m✔\u001b[0m\n",
            "package   en-core-web-lg   en_core_web_lg   \u001b[38;5;2m2.2.5\u001b[0m   \u001b[38;5;2m✔\u001b[0m\n",
            "link      en               en_core_web_sm   \u001b[38;5;2m2.2.5\u001b[0m   \u001b[38;5;2m✔\u001b[0m\n",
            "\n"
          ]
        }
      ]
    },
    {
      "cell_type": "code",
      "source": [
        "from pathlib import Path\n",
        "import sys\n",
        "\n",
        "if 'google.colab' in sys.modules:\n",
        "    from google.colab import drive\n",
        "    drive.mount('/gdrive')\n",
        "\n",
        "    if Path(\"/gdrive/Shareddrives/Proyecto Minería de Datos\").exists():\n",
        "        !cp \"/gdrive/Shareddrives/Proyecto Minería de Datos/textv2.npy\" \"text.npy\"\n",
        "        !cp \"/gdrive/Shareddrives/Proyecto Minería de Datos/text-title.npy\" \"text-title.npy\""
      ],
      "metadata": {
        "colab": {
          "base_uri": "https://localhost:8080/"
        },
        "id": "8N0PdA7lh7ia",
        "outputId": "88be68d8-bfa1-4765-f326-3933605e405b"
      },
      "execution_count": null,
      "outputs": [
        {
          "output_type": "stream",
          "name": "stdout",
          "text": [
            "Mounted at /gdrive\n"
          ]
        }
      ]
    },
    {
      "cell_type": "markdown",
      "source": [
        "# 1) Definición del problema a analizar: *Fake news*"
      ],
      "metadata": {
        "id": "hd2AMFXpii_c"
      }
    },
    {
      "cell_type": "markdown",
      "source": [
        "Las *fake news* (en español, noticias falsas) son un término referido a la divulgación de noticias falsas que provocan un peligroso círculo de desinformación. En el siglo XXI, las redes sociales y el internet han permitido que cualquier persona pueda ser creadora de contenido para la web, lo que ha facilitado la viralización de contenido engañoso, falso o fabricado. En efecto, un estudio de la revista Science (2018) demostró que las *fake news* son retuiteadas por hasta 100 veces más personas y mucho más rápido que la información genuina, especialmente al hablar de política ([Revista Science](https://www.science.org/doi/10.1126/science.aap9559)). Así, se generan círculos viciosos y una noticia falsa se puede replicar miles de veces en solo segundos. (FIP, p.1)\n",
        "\n",
        "Queremos analizar el problema de detección de *fake news*. Para esto, usaremos los datos del ISOT Fake News Dataset, el cual está compuesto por dos archivos csv: “True.csv”, que contiene artículos de noticias reales recolectados desde el sitio de noticias *Reuters.com*; y “Fake.csv” que contiene artículos recolectados desde sitios poco confiables verificados por la organización estadounidense de fact-checking Politifact. \n",
        "\n",
        "**El plan es procesar las noticias con herramientas de procesamiento de lenguaje natural, y clasificar noticias como verdaderas o falsas de acuerdo a su contenido utilizando clasificadores como Naive Bayes y Decision Trees.**"
      ],
      "metadata": {
        "id": "ctNXxcNMirxm"
      }
    },
    {
      "cell_type": "markdown",
      "source": [
        "# 2) Impacto del problema"
      ],
      "metadata": {
        "id": "0aIhA-ioi5n8"
      }
    },
    {
      "cell_type": "markdown",
      "source": [
        "La circulación de fake news no sólo desinforma a las personas impactando su derecho a la información, sino que además afecta a la sociedad en su conjunto y a la integridad democrática. Casos conocidos de fake news usualmente involucran elecciones presidenciales o decisiones políticas que afectan a países completos o, en el caso de las elecciones presidenciales de EEUU, al régimen mundial.\n",
        "\n",
        "\n",
        "Por otro lado, la difusión de información falsa puede provocar como consecuencia aumentar la hostilidad y odio en contra de ciertos grupos vulnerables de la sociedad (FIP, p.11). Por ejemplo, si se desean ganar votos anti-inmigración, suelen publicarse noticias que adjudican aumento de crímenes o enfermedades de la mano al aumento de migrantes. \n",
        "\n",
        "\n",
        "Finalmente, las fake news no solo buscan desinformar para influenciar grandes eventos, sino que están presentes en miles de sitios web diariamente con el objetivo de generar dinero. Para esto, las personas utilizan engaños relacionados a problemas o acontecimientos que preocupan a grandes masas de personas, estando dispuestos a incluso generar pánico colectivo con tal de ganar más clicks y likes. \n",
        "\n",
        "\n",
        "Como grupo, opinamos que es innegable la enorme influencia que han ejercido las fake news hasta el momento, y todavía se desconoce el potencial impacto que podrían ser capaces de generar en eventos futuros. Creemos que es parte de nuestro rol como ingenieros en computación poner nuestro conocimiento al servicio de la comunidad (en este caso de los internautas) para poder brindar soluciones a problemas de ingeniería presentes en la vida real como éste y cooperar con nuestro grano de arena a hacer de internet y las RRSS mejores cada día. Por ello creemos que este proyecto será de alto impacto y muy contingente. \n"
      ],
      "metadata": {
        "id": "MbNMuApGi9DE"
      }
    },
    {
      "cell_type": "markdown",
      "source": [
        "**Fuentes partes 1 y 2:**\n",
        "* ¿Qué son las Fake News?: guía para combatir la desinformación en la era de la posverdad | FIP. (2018). Recuperado de https://www.ifj.org/fileadmin/user_upload/Fake_News_-_FIP_AmLat.pdf\n",
        "* ¿Qué son las Fake News? | UNAM Global. (2020, 31 de Mayo). Recuperado de https://unamglobal.unam.mx/que-son-las-fake-news\n",
        "* ¿Por qué decimos cosas que sabemos que no son verdad? | Chequeado. (2020, 16 de Julio). Recuperado de https://chequeado.com/el-explicador/por-que-decimos-cosas-que-sabemos-que-no-son-verdad"
      ],
      "metadata": {
        "id": "SvfODXuZjAwY"
      }
    },
    {
      "cell_type": "markdown",
      "source": [
        "# 3) Datos: limpieza y preparación"
      ],
      "metadata": {
        "id": "tt1kw2gajDu6"
      }
    },
    {
      "cell_type": "markdown",
      "source": [
        "Lo primero será importar las librerías necesarias para la realización de este proyecto."
      ],
      "metadata": {
        "id": "ed_Pq3kljF_c"
      }
    },
    {
      "cell_type": "code",
      "source": [
        "import datetime\n",
        "import warnings\n",
        "import numpy as np\n",
        "import pandas as pd\n",
        "import matplotlib.pyplot as plt\n",
        "import seaborn as sns\n",
        "from pathlib import Path"
      ],
      "metadata": {
        "id": "2k2UOVvsiCj6"
      },
      "execution_count": null,
      "outputs": []
    },
    {
      "cell_type": "markdown",
      "source": [
        "### 3.1 Obtención de datos\n",
        "\n",
        "A continuación, se cargarán los set de datos desde un link compartido en Dropbox y se verá una muestra de cada uno de ellos."
      ],
      "metadata": {
        "id": "i3zXlAzTjPcE"
      }
    },
    {
      "cell_type": "code",
      "source": [
        "!wget -O True.csv https://www.dropbox.com/s/tc43g22n8mm6718/True.csv?dl=0"
      ],
      "metadata": {
        "colab": {
          "base_uri": "https://localhost:8080/"
        },
        "id": "mBb2CMDbjQBs",
        "outputId": "aa748db0-5912-446b-c183-a3a21d25a9a4"
      },
      "execution_count": null,
      "outputs": [
        {
          "output_type": "stream",
          "name": "stdout",
          "text": [
            "--2021-12-18 21:06:07--  https://www.dropbox.com/s/tc43g22n8mm6718/True.csv?dl=0\n",
            "Resolving www.dropbox.com (www.dropbox.com)... 162.125.5.18, 2620:100:601d:18::a27d:512\n",
            "Connecting to www.dropbox.com (www.dropbox.com)|162.125.5.18|:443... connected.\n",
            "HTTP request sent, awaiting response... 301 Moved Permanently\n",
            "Location: /s/raw/tc43g22n8mm6718/True.csv [following]\n",
            "--2021-12-18 21:06:07--  https://www.dropbox.com/s/raw/tc43g22n8mm6718/True.csv\n",
            "Reusing existing connection to www.dropbox.com:443.\n",
            "HTTP request sent, awaiting response... 302 Found\n",
            "Location: https://ucdbabb94e1129d32a741d901666.dl.dropboxusercontent.com/cd/0/inline/BcGDLYgolHR96Az-o0z46CV493U1oMJcI16JZEbuQTrYOBG_KzUd4LOGtdEdPoK9rroHxfmat3gTtApH2kPKawhBj2zg_hqI-NDIogObem6lHyI8VLeK2TfksdsU94N0qwkBoTz64OwqUNYlyUTjggSQ/file# [following]\n",
            "--2021-12-18 21:06:08--  https://ucdbabb94e1129d32a741d901666.dl.dropboxusercontent.com/cd/0/inline/BcGDLYgolHR96Az-o0z46CV493U1oMJcI16JZEbuQTrYOBG_KzUd4LOGtdEdPoK9rroHxfmat3gTtApH2kPKawhBj2zg_hqI-NDIogObem6lHyI8VLeK2TfksdsU94N0qwkBoTz64OwqUNYlyUTjggSQ/file\n",
            "Resolving ucdbabb94e1129d32a741d901666.dl.dropboxusercontent.com (ucdbabb94e1129d32a741d901666.dl.dropboxusercontent.com)... 162.125.2.15, 2620:100:601d:15::a27d:50f\n",
            "Connecting to ucdbabb94e1129d32a741d901666.dl.dropboxusercontent.com (ucdbabb94e1129d32a741d901666.dl.dropboxusercontent.com)|162.125.2.15|:443... connected.\n",
            "HTTP request sent, awaiting response... 200 OK\n",
            "Length: 53582940 (51M) [text/plain]\n",
            "Saving to: ‘True.csv’\n",
            "\n",
            "True.csv            100%[===================>]  51.10M  30.8MB/s    in 1.7s    \n",
            "\n",
            "2021-12-18 21:06:10 (30.8 MB/s) - ‘True.csv’ saved [53582940/53582940]\n",
            "\n"
          ]
        }
      ]
    },
    {
      "cell_type": "code",
      "source": [
        "!wget -O Fake.csv https://www.dropbox.com/s/yqnpv3nr0gemy5a/Fake.csv?dl=0"
      ],
      "metadata": {
        "colab": {
          "base_uri": "https://localhost:8080/"
        },
        "id": "5tdT1GwlmWy-",
        "outputId": "a5b2c4ad-76f6-4dd5-9570-b5ce8fcc4049"
      },
      "execution_count": null,
      "outputs": [
        {
          "output_type": "stream",
          "name": "stdout",
          "text": [
            "--2021-12-18 21:06:10--  https://www.dropbox.com/s/yqnpv3nr0gemy5a/Fake.csv?dl=0\n",
            "Resolving www.dropbox.com (www.dropbox.com)... 162.125.5.18, 2620:100:601d:18::a27d:512\n",
            "Connecting to www.dropbox.com (www.dropbox.com)|162.125.5.18|:443... connected.\n",
            "HTTP request sent, awaiting response... 301 Moved Permanently\n",
            "Location: /s/raw/yqnpv3nr0gemy5a/Fake.csv [following]\n",
            "--2021-12-18 21:06:10--  https://www.dropbox.com/s/raw/yqnpv3nr0gemy5a/Fake.csv\n",
            "Reusing existing connection to www.dropbox.com:443.\n",
            "HTTP request sent, awaiting response... 302 Found\n",
            "Location: https://uc46f0523888c32ed899f12682e6.dl.dropboxusercontent.com/cd/0/inline/BcEQJ8W3r6HuxuLW-WxtcujlatBYfEjsbIQI2z3Fr8Ly1iyjUgWx0G6m3bgjIS9EkA382DowmpUFsWV07DoqyNFeATWTkmF_dBN1x43FUY6gF_ejMpr_7UBTPyRCqq60ORhOIrkpUyeGJtgIL5g2Xkg-/file# [following]\n",
            "--2021-12-18 21:06:11--  https://uc46f0523888c32ed899f12682e6.dl.dropboxusercontent.com/cd/0/inline/BcEQJ8W3r6HuxuLW-WxtcujlatBYfEjsbIQI2z3Fr8Ly1iyjUgWx0G6m3bgjIS9EkA382DowmpUFsWV07DoqyNFeATWTkmF_dBN1x43FUY6gF_ejMpr_7UBTPyRCqq60ORhOIrkpUyeGJtgIL5g2Xkg-/file\n",
            "Resolving uc46f0523888c32ed899f12682e6.dl.dropboxusercontent.com (uc46f0523888c32ed899f12682e6.dl.dropboxusercontent.com)... 162.125.5.15, 2620:100:601d:15::a27d:50f\n",
            "Connecting to uc46f0523888c32ed899f12682e6.dl.dropboxusercontent.com (uc46f0523888c32ed899f12682e6.dl.dropboxusercontent.com)|162.125.5.15|:443... connected.\n",
            "HTTP request sent, awaiting response... 200 OK\n",
            "Length: 62789876 (60M) [text/plain]\n",
            "Saving to: ‘Fake.csv’\n",
            "\n",
            "Fake.csv            100%[===================>]  59.88M  51.1MB/s    in 1.2s    \n",
            "\n",
            "2021-12-18 21:06:12 (51.1 MB/s) - ‘Fake.csv’ saved [62789876/62789876]\n",
            "\n"
          ]
        }
      ]
    },
    {
      "cell_type": "code",
      "source": [
        "df_falsos = pd.read_csv(\"Fake.csv\")\n",
        "df_verdaderos = pd.read_csv(\"True.csv\")"
      ],
      "metadata": {
        "id": "t8iJX2vIme9H"
      },
      "execution_count": null,
      "outputs": []
    },
    {
      "cell_type": "code",
      "source": [
        "df_falsos.head()"
      ],
      "metadata": {
        "colab": {
          "base_uri": "https://localhost:8080/",
          "height": 206
        },
        "id": "FDrOVxv3mj6r",
        "outputId": "92dbe952-d4c2-4889-c89c-c40fae03fe8b"
      },
      "execution_count": null,
      "outputs": [
        {
          "output_type": "execute_result",
          "data": {
            "text/html": [
              "\n",
              "  <div id=\"df-4b03ccf4-abda-4dea-b163-e5e64ae9712a\">\n",
              "    <div class=\"colab-df-container\">\n",
              "      <div>\n",
              "<style scoped>\n",
              "    .dataframe tbody tr th:only-of-type {\n",
              "        vertical-align: middle;\n",
              "    }\n",
              "\n",
              "    .dataframe tbody tr th {\n",
              "        vertical-align: top;\n",
              "    }\n",
              "\n",
              "    .dataframe thead th {\n",
              "        text-align: right;\n",
              "    }\n",
              "</style>\n",
              "<table border=\"1\" class=\"dataframe\">\n",
              "  <thead>\n",
              "    <tr style=\"text-align: right;\">\n",
              "      <th></th>\n",
              "      <th>title</th>\n",
              "      <th>text</th>\n",
              "      <th>subject</th>\n",
              "      <th>date</th>\n",
              "    </tr>\n",
              "  </thead>\n",
              "  <tbody>\n",
              "    <tr>\n",
              "      <th>0</th>\n",
              "      <td>Donald Trump Sends Out Embarrassing New Year’...</td>\n",
              "      <td>Donald Trump just couldn t wish all Americans ...</td>\n",
              "      <td>News</td>\n",
              "      <td>December 31, 2017</td>\n",
              "    </tr>\n",
              "    <tr>\n",
              "      <th>1</th>\n",
              "      <td>Drunk Bragging Trump Staffer Started Russian ...</td>\n",
              "      <td>House Intelligence Committee Chairman Devin Nu...</td>\n",
              "      <td>News</td>\n",
              "      <td>December 31, 2017</td>\n",
              "    </tr>\n",
              "    <tr>\n",
              "      <th>2</th>\n",
              "      <td>Sheriff David Clarke Becomes An Internet Joke...</td>\n",
              "      <td>On Friday, it was revealed that former Milwauk...</td>\n",
              "      <td>News</td>\n",
              "      <td>December 30, 2017</td>\n",
              "    </tr>\n",
              "    <tr>\n",
              "      <th>3</th>\n",
              "      <td>Trump Is So Obsessed He Even Has Obama’s Name...</td>\n",
              "      <td>On Christmas day, Donald Trump announced that ...</td>\n",
              "      <td>News</td>\n",
              "      <td>December 29, 2017</td>\n",
              "    </tr>\n",
              "    <tr>\n",
              "      <th>4</th>\n",
              "      <td>Pope Francis Just Called Out Donald Trump Dur...</td>\n",
              "      <td>Pope Francis used his annual Christmas Day mes...</td>\n",
              "      <td>News</td>\n",
              "      <td>December 25, 2017</td>\n",
              "    </tr>\n",
              "  </tbody>\n",
              "</table>\n",
              "</div>\n",
              "      <button class=\"colab-df-convert\" onclick=\"convertToInteractive('df-4b03ccf4-abda-4dea-b163-e5e64ae9712a')\"\n",
              "              title=\"Convert this dataframe to an interactive table.\"\n",
              "              style=\"display:none;\">\n",
              "        \n",
              "  <svg xmlns=\"http://www.w3.org/2000/svg\" height=\"24px\"viewBox=\"0 0 24 24\"\n",
              "       width=\"24px\">\n",
              "    <path d=\"M0 0h24v24H0V0z\" fill=\"none\"/>\n",
              "    <path d=\"M18.56 5.44l.94 2.06.94-2.06 2.06-.94-2.06-.94-.94-2.06-.94 2.06-2.06.94zm-11 1L8.5 8.5l.94-2.06 2.06-.94-2.06-.94L8.5 2.5l-.94 2.06-2.06.94zm10 10l.94 2.06.94-2.06 2.06-.94-2.06-.94-.94-2.06-.94 2.06-2.06.94z\"/><path d=\"M17.41 7.96l-1.37-1.37c-.4-.4-.92-.59-1.43-.59-.52 0-1.04.2-1.43.59L10.3 9.45l-7.72 7.72c-.78.78-.78 2.05 0 2.83L4 21.41c.39.39.9.59 1.41.59.51 0 1.02-.2 1.41-.59l7.78-7.78 2.81-2.81c.8-.78.8-2.07 0-2.86zM5.41 20L4 18.59l7.72-7.72 1.47 1.35L5.41 20z\"/>\n",
              "  </svg>\n",
              "      </button>\n",
              "      \n",
              "  <style>\n",
              "    .colab-df-container {\n",
              "      display:flex;\n",
              "      flex-wrap:wrap;\n",
              "      gap: 12px;\n",
              "    }\n",
              "\n",
              "    .colab-df-convert {\n",
              "      background-color: #E8F0FE;\n",
              "      border: none;\n",
              "      border-radius: 50%;\n",
              "      cursor: pointer;\n",
              "      display: none;\n",
              "      fill: #1967D2;\n",
              "      height: 32px;\n",
              "      padding: 0 0 0 0;\n",
              "      width: 32px;\n",
              "    }\n",
              "\n",
              "    .colab-df-convert:hover {\n",
              "      background-color: #E2EBFA;\n",
              "      box-shadow: 0px 1px 2px rgba(60, 64, 67, 0.3), 0px 1px 3px 1px rgba(60, 64, 67, 0.15);\n",
              "      fill: #174EA6;\n",
              "    }\n",
              "\n",
              "    [theme=dark] .colab-df-convert {\n",
              "      background-color: #3B4455;\n",
              "      fill: #D2E3FC;\n",
              "    }\n",
              "\n",
              "    [theme=dark] .colab-df-convert:hover {\n",
              "      background-color: #434B5C;\n",
              "      box-shadow: 0px 1px 3px 1px rgba(0, 0, 0, 0.15);\n",
              "      filter: drop-shadow(0px 1px 2px rgba(0, 0, 0, 0.3));\n",
              "      fill: #FFFFFF;\n",
              "    }\n",
              "  </style>\n",
              "\n",
              "      <script>\n",
              "        const buttonEl =\n",
              "          document.querySelector('#df-4b03ccf4-abda-4dea-b163-e5e64ae9712a button.colab-df-convert');\n",
              "        buttonEl.style.display =\n",
              "          google.colab.kernel.accessAllowed ? 'block' : 'none';\n",
              "\n",
              "        async function convertToInteractive(key) {\n",
              "          const element = document.querySelector('#df-4b03ccf4-abda-4dea-b163-e5e64ae9712a');\n",
              "          const dataTable =\n",
              "            await google.colab.kernel.invokeFunction('convertToInteractive',\n",
              "                                                     [key], {});\n",
              "          if (!dataTable) return;\n",
              "\n",
              "          const docLinkHtml = 'Like what you see? Visit the ' +\n",
              "            '<a target=\"_blank\" href=https://colab.research.google.com/notebooks/data_table.ipynb>data table notebook</a>'\n",
              "            + ' to learn more about interactive tables.';\n",
              "          element.innerHTML = '';\n",
              "          dataTable['output_type'] = 'display_data';\n",
              "          await google.colab.output.renderOutput(dataTable, element);\n",
              "          const docLink = document.createElement('div');\n",
              "          docLink.innerHTML = docLinkHtml;\n",
              "          element.appendChild(docLink);\n",
              "        }\n",
              "      </script>\n",
              "    </div>\n",
              "  </div>\n",
              "  "
            ],
            "text/plain": [
              "                                               title  ...               date\n",
              "0   Donald Trump Sends Out Embarrassing New Year’...  ...  December 31, 2017\n",
              "1   Drunk Bragging Trump Staffer Started Russian ...  ...  December 31, 2017\n",
              "2   Sheriff David Clarke Becomes An Internet Joke...  ...  December 30, 2017\n",
              "3   Trump Is So Obsessed He Even Has Obama’s Name...  ...  December 29, 2017\n",
              "4   Pope Francis Just Called Out Donald Trump Dur...  ...  December 25, 2017\n",
              "\n",
              "[5 rows x 4 columns]"
            ]
          },
          "metadata": {},
          "execution_count": 8
        }
      ]
    },
    {
      "cell_type": "code",
      "source": [
        "df_verdaderos.head()"
      ],
      "metadata": {
        "colab": {
          "base_uri": "https://localhost:8080/",
          "height": 206
        },
        "id": "dbNtWWXcm37z",
        "outputId": "2178e675-5d80-44c9-e7f6-46ba05c19a65"
      },
      "execution_count": null,
      "outputs": [
        {
          "output_type": "execute_result",
          "data": {
            "text/html": [
              "\n",
              "  <div id=\"df-110ef5e7-1a75-4835-9674-342be315d705\">\n",
              "    <div class=\"colab-df-container\">\n",
              "      <div>\n",
              "<style scoped>\n",
              "    .dataframe tbody tr th:only-of-type {\n",
              "        vertical-align: middle;\n",
              "    }\n",
              "\n",
              "    .dataframe tbody tr th {\n",
              "        vertical-align: top;\n",
              "    }\n",
              "\n",
              "    .dataframe thead th {\n",
              "        text-align: right;\n",
              "    }\n",
              "</style>\n",
              "<table border=\"1\" class=\"dataframe\">\n",
              "  <thead>\n",
              "    <tr style=\"text-align: right;\">\n",
              "      <th></th>\n",
              "      <th>title</th>\n",
              "      <th>text</th>\n",
              "      <th>subject</th>\n",
              "      <th>date</th>\n",
              "    </tr>\n",
              "  </thead>\n",
              "  <tbody>\n",
              "    <tr>\n",
              "      <th>0</th>\n",
              "      <td>As U.S. budget fight looms, Republicans flip t...</td>\n",
              "      <td>WASHINGTON (Reuters) - The head of a conservat...</td>\n",
              "      <td>politicsNews</td>\n",
              "      <td>December 31, 2017</td>\n",
              "    </tr>\n",
              "    <tr>\n",
              "      <th>1</th>\n",
              "      <td>U.S. military to accept transgender recruits o...</td>\n",
              "      <td>WASHINGTON (Reuters) - Transgender people will...</td>\n",
              "      <td>politicsNews</td>\n",
              "      <td>December 29, 2017</td>\n",
              "    </tr>\n",
              "    <tr>\n",
              "      <th>2</th>\n",
              "      <td>Senior U.S. Republican senator: 'Let Mr. Muell...</td>\n",
              "      <td>WASHINGTON (Reuters) - The special counsel inv...</td>\n",
              "      <td>politicsNews</td>\n",
              "      <td>December 31, 2017</td>\n",
              "    </tr>\n",
              "    <tr>\n",
              "      <th>3</th>\n",
              "      <td>FBI Russia probe helped by Australian diplomat...</td>\n",
              "      <td>WASHINGTON (Reuters) - Trump campaign adviser ...</td>\n",
              "      <td>politicsNews</td>\n",
              "      <td>December 30, 2017</td>\n",
              "    </tr>\n",
              "    <tr>\n",
              "      <th>4</th>\n",
              "      <td>Trump wants Postal Service to charge 'much mor...</td>\n",
              "      <td>SEATTLE/WASHINGTON (Reuters) - President Donal...</td>\n",
              "      <td>politicsNews</td>\n",
              "      <td>December 29, 2017</td>\n",
              "    </tr>\n",
              "  </tbody>\n",
              "</table>\n",
              "</div>\n",
              "      <button class=\"colab-df-convert\" onclick=\"convertToInteractive('df-110ef5e7-1a75-4835-9674-342be315d705')\"\n",
              "              title=\"Convert this dataframe to an interactive table.\"\n",
              "              style=\"display:none;\">\n",
              "        \n",
              "  <svg xmlns=\"http://www.w3.org/2000/svg\" height=\"24px\"viewBox=\"0 0 24 24\"\n",
              "       width=\"24px\">\n",
              "    <path d=\"M0 0h24v24H0V0z\" fill=\"none\"/>\n",
              "    <path d=\"M18.56 5.44l.94 2.06.94-2.06 2.06-.94-2.06-.94-.94-2.06-.94 2.06-2.06.94zm-11 1L8.5 8.5l.94-2.06 2.06-.94-2.06-.94L8.5 2.5l-.94 2.06-2.06.94zm10 10l.94 2.06.94-2.06 2.06-.94-2.06-.94-.94-2.06-.94 2.06-2.06.94z\"/><path d=\"M17.41 7.96l-1.37-1.37c-.4-.4-.92-.59-1.43-.59-.52 0-1.04.2-1.43.59L10.3 9.45l-7.72 7.72c-.78.78-.78 2.05 0 2.83L4 21.41c.39.39.9.59 1.41.59.51 0 1.02-.2 1.41-.59l7.78-7.78 2.81-2.81c.8-.78.8-2.07 0-2.86zM5.41 20L4 18.59l7.72-7.72 1.47 1.35L5.41 20z\"/>\n",
              "  </svg>\n",
              "      </button>\n",
              "      \n",
              "  <style>\n",
              "    .colab-df-container {\n",
              "      display:flex;\n",
              "      flex-wrap:wrap;\n",
              "      gap: 12px;\n",
              "    }\n",
              "\n",
              "    .colab-df-convert {\n",
              "      background-color: #E8F0FE;\n",
              "      border: none;\n",
              "      border-radius: 50%;\n",
              "      cursor: pointer;\n",
              "      display: none;\n",
              "      fill: #1967D2;\n",
              "      height: 32px;\n",
              "      padding: 0 0 0 0;\n",
              "      width: 32px;\n",
              "    }\n",
              "\n",
              "    .colab-df-convert:hover {\n",
              "      background-color: #E2EBFA;\n",
              "      box-shadow: 0px 1px 2px rgba(60, 64, 67, 0.3), 0px 1px 3px 1px rgba(60, 64, 67, 0.15);\n",
              "      fill: #174EA6;\n",
              "    }\n",
              "\n",
              "    [theme=dark] .colab-df-convert {\n",
              "      background-color: #3B4455;\n",
              "      fill: #D2E3FC;\n",
              "    }\n",
              "\n",
              "    [theme=dark] .colab-df-convert:hover {\n",
              "      background-color: #434B5C;\n",
              "      box-shadow: 0px 1px 3px 1px rgba(0, 0, 0, 0.15);\n",
              "      filter: drop-shadow(0px 1px 2px rgba(0, 0, 0, 0.3));\n",
              "      fill: #FFFFFF;\n",
              "    }\n",
              "  </style>\n",
              "\n",
              "      <script>\n",
              "        const buttonEl =\n",
              "          document.querySelector('#df-110ef5e7-1a75-4835-9674-342be315d705 button.colab-df-convert');\n",
              "        buttonEl.style.display =\n",
              "          google.colab.kernel.accessAllowed ? 'block' : 'none';\n",
              "\n",
              "        async function convertToInteractive(key) {\n",
              "          const element = document.querySelector('#df-110ef5e7-1a75-4835-9674-342be315d705');\n",
              "          const dataTable =\n",
              "            await google.colab.kernel.invokeFunction('convertToInteractive',\n",
              "                                                     [key], {});\n",
              "          if (!dataTable) return;\n",
              "\n",
              "          const docLinkHtml = 'Like what you see? Visit the ' +\n",
              "            '<a target=\"_blank\" href=https://colab.research.google.com/notebooks/data_table.ipynb>data table notebook</a>'\n",
              "            + ' to learn more about interactive tables.';\n",
              "          element.innerHTML = '';\n",
              "          dataTable['output_type'] = 'display_data';\n",
              "          await google.colab.output.renderOutput(dataTable, element);\n",
              "          const docLink = document.createElement('div');\n",
              "          docLink.innerHTML = docLinkHtml;\n",
              "          element.appendChild(docLink);\n",
              "        }\n",
              "      </script>\n",
              "    </div>\n",
              "  </div>\n",
              "  "
            ],
            "text/plain": [
              "                                               title  ...                date\n",
              "0  As U.S. budget fight looms, Republicans flip t...  ...  December 31, 2017 \n",
              "1  U.S. military to accept transgender recruits o...  ...  December 29, 2017 \n",
              "2  Senior U.S. Republican senator: 'Let Mr. Muell...  ...  December 31, 2017 \n",
              "3  FBI Russia probe helped by Australian diplomat...  ...  December 30, 2017 \n",
              "4  Trump wants Postal Service to charge 'much mor...  ...  December 29, 2017 \n",
              "\n",
              "[5 rows x 4 columns]"
            ]
          },
          "metadata": {},
          "execution_count": 9
        }
      ]
    },
    {
      "cell_type": "markdown",
      "source": [
        "A partir de lo anterior, observamos que ambos datasets poseen los mismos atributos/features:\n",
        "\n",
        "* ```title```: Corresponde al título de la publicación o artículo. Es de tipo ***string*** (más bien ***text*** dada su extensión)\n",
        "* ```text```: Corresponde al cuerpo de la publicación o artículo. Es de tipo string (más bien ***text*** dada su extensión)\n",
        "* ```subject```: Corresponde al tema del que habla la publicación o artículo. Es de tipo ***string***\n",
        "* ```date```: Corresponde a la fecha de publicación. Es de tipo ***date***\n"
      ],
      "metadata": {
        "id": "C6s2qoLxopVC"
      }
    },
    {
      "cell_type": "markdown",
      "source": [
        "**¿Son estos features independientes entre si?** Estos atributos claramente son independientes. Digamos que cada uno puede existir individualmente sin depender de otro atributo. Sin embargo, recordemos que cada uno de estos atributos son características de una noticia, por lo que evidentemente tienen cierta relación. Por ejemplo, el título puede influenciar en lo que dice en el texto, y también se relaciona con la temática en un sentido **semántico**, es decir, en el significado humano y cognitivo que se le da al texto. Sin embargo, no están relacionados en términos **sintácticos** (que es lo que lee la máquina), por lo que es posible establecer una independencia entre estos atributos."
      ],
      "metadata": {
        "id": "0M_oKKNEoqlS"
      }
    },
    {
      "cell_type": "markdown",
      "source": [
        "Respecto a los valores de los features, se observa que los títulos y el texto corresponde a un dato propio de cada entidad. Por otro lado, la columna **subject**, la cual nos da cuenta de la temática de la noticia, tiene una cantidad limitada de categorías.\n",
        "\n",
        "Para el dataset ```df_falsos``` existen 6 categorías para este atributo: \\[ *News, politics, left-news, Government News, US_news, Middle-east* \\]"
      ],
      "metadata": {
        "id": "at6zcxFRozmE"
      }
    },
    {
      "cell_type": "code",
      "source": [
        "df_falsos['subject'].value_counts()"
      ],
      "metadata": {
        "colab": {
          "base_uri": "https://localhost:8080/"
        },
        "id": "k9fxOsSwoqHI",
        "outputId": "79b40ea3-f65f-4ce2-91c9-72a0c1d6d747"
      },
      "execution_count": null,
      "outputs": [
        {
          "output_type": "execute_result",
          "data": {
            "text/plain": [
              "News               9050\n",
              "politics           6841\n",
              "left-news          4459\n",
              "Government News    1570\n",
              "US_News             783\n",
              "Middle-east         778\n",
              "Name: subject, dtype: int64"
            ]
          },
          "metadata": {},
          "execution_count": 10
        }
      ]
    },
    {
      "cell_type": "markdown",
      "source": [
        "Por otra parte, para el dataset ```df_verdaderos``` existen solo 2:\n",
        "\\[ *politicsNews, worldnews* \\]"
      ],
      "metadata": {
        "id": "qikL9b_npCIU"
      }
    },
    {
      "cell_type": "code",
      "source": [
        "df_verdaderos['subject'].value_counts()"
      ],
      "metadata": {
        "colab": {
          "base_uri": "https://localhost:8080/"
        },
        "id": "ok6wpfsXpFL2",
        "outputId": "af5e3eb8-39ae-4507-fa3b-2a4b52afd1f0"
      },
      "execution_count": null,
      "outputs": [
        {
          "output_type": "execute_result",
          "data": {
            "text/plain": [
              "politicsNews    11272\n",
              "worldnews       10145\n",
              "Name: subject, dtype: int64"
            ]
          },
          "metadata": {},
          "execution_count": 11
        }
      ]
    },
    {
      "cell_type": "markdown",
      "source": [
        "Si queremos hacer un join de estos dataset es necesario tener en cuenta este atributo para relacionar estos sets categóricos distintos. Por ejemplo, *politics* y p*oliticsNews* hacen referencia a publicaciones políticas, y no tendría sentido tratarlos como categorías diferentes.\n",
        "\n",
        "Otro de los problemas que tienen estos datasets es el tipo de dato o *datatype* de las columnas. No podemos simplemente manejar los textos en su forma completa, sino que es necesario aplicar algún tipo de algoritmo para vectorizar la información entregada y que sea posible entrenar los modelos que tenemos con ella.\n",
        "\n",
        "Existen otro tipo de consideraciones que es necesario tener en cuenta, como el uso de *stopwords*, las cuales son palabras que se usan en todas las oraciones pero que no tienen una relación directa con la etiqueta de clasificación (noticia falsa o verdadera). **De esto se explicará en mayor detalle más adelante**."
      ],
      "metadata": {
        "id": "rkeMFkzbpOf7"
      }
    },
    {
      "cell_type": "markdown",
      "source": [
        "### 3.2 Limpieza de datos"
      ],
      "metadata": {
        "id": "-diyDa0Tp6FS"
      }
    },
    {
      "cell_type": "markdown",
      "source": [
        "En esta sección se limpiarán los datos y se añadirán/quitarán columnas para beneficiar el mecanismo de procesamiento de la información.\n",
        "\n",
        "A continuación se crea la función `cast_date`, que transforma el formato de la fecha para darle un tipo de dato *date*, en lugar de que solo sea un texto con la fecha escrita. De este modo nos será más fácil aplicar operaciones numéricas."
      ],
      "metadata": {
        "id": "MHErxSh8qB-i"
      }
    },
    {
      "cell_type": "code",
      "source": [
        "def cast_date(obj: str, *, fs: \"list[str]\" = [\"%B %d, %Y\", \"%d-%b-%y\", \"%b %d, %Y\"]) -> datetime.date:\n",
        "    for f in fs:\n",
        "        try:\n",
        "            return datetime.datetime.strptime(obj.strip(), f)\n",
        "        except ValueError: continue\n",
        "    warnings.warn(f\"{repr(obj)} is not a date\")\n",
        "    return None"
      ],
      "metadata": {
        "id": "RpujakcTpmDS"
      },
      "execution_count": null,
      "outputs": []
    },
    {
      "cell_type": "markdown",
      "source": [
        "También se crea la función `unify_politic_news` que unificará las categorías 'politicsNews' y 'politics' como una única categoría 'politicsNews'. Si bien para la entrega pasada de este proyecto se utilizaron solamente noticias de tema político, para esta entrega se propuso utilizar la totalidad de las noticias. Por ende, la columna `subject` será importante."
      ],
      "metadata": {
        "id": "cfXKfn5ew_Yq"
      }
    },
    {
      "cell_type": "code",
      "source": [
        "def unify_politic_news(category):\n",
        "    if category == 'politics':\n",
        "        return 'politicsNews'\n",
        "    return category"
      ],
      "metadata": {
        "id": "6kPE4yeYrsTU"
      },
      "execution_count": null,
      "outputs": []
    },
    {
      "cell_type": "markdown",
      "source": [
        "A continuación se genera el *dataset* `df_all`, el cual agrupa los dos dataset anteriores en uno solo. Además, aplica la función de transformación de fecha y se hace shuffle de sus datos."
      ],
      "metadata": {
        "id": "DTZZiik0qP7u"
      }
    },
    {
      "cell_type": "code",
      "source": [
        "#Se generan dataframes temporales\n",
        "df_falsos_temp = df_falsos.copy()\n",
        "df_verdaderos_temp = df_verdaderos.copy()\n",
        "\n",
        "#Agregamos nueva columna is_fake\n",
        "df_falsos_temp['is_fake'] = True\n",
        "df_verdaderos_temp['is_fake'] = False\n",
        "\n",
        "#Juntamos datasets de noticias reales con las falsas\n",
        "df_all = pd.concat([df_falsos_temp, df_verdaderos_temp])\n",
        "df_all['date'] = df_all['date'].apply(cast_date)\n",
        "df_all['subject'] = df_all['subject'].apply(unify_politic_news)\n",
        "\n",
        "df_all = df_all.sample(frac=1, random_state=3).reset_index(drop=True)\n",
        "\n",
        "#Borramos datasets temporales\n",
        "del df_falsos_temp, df_verdaderos_temp"
      ],
      "metadata": {
        "colab": {
          "base_uri": "https://localhost:8080/"
        },
        "id": "ygXrvYacqKL1",
        "outputId": "884686cb-cfb2-4af5-d499-9553485a1ea0"
      },
      "execution_count": null,
      "outputs": [
        {
          "output_type": "stream",
          "name": "stderr",
          "text": [
            "/usr/local/lib/python3.7/dist-packages/ipykernel_launcher.py:6: UserWarning: 'https://100percentfedup.com/served-roy-moore-vietnamletter-veteran-sets-record-straight-honorable-decent-respectable-patriotic-commander-soldier/' is not a date\n",
            "  \n",
            "/usr/local/lib/python3.7/dist-packages/ipykernel_launcher.py:6: UserWarning: 'https://100percentfedup.com/video-hillary-asked-about-trump-i-just-want-to-eat-some-pie/' is not a date\n",
            "  \n",
            "/usr/local/lib/python3.7/dist-packages/ipykernel_launcher.py:6: UserWarning: 'https://100percentfedup.com/12-yr-old-black-conservative-whose-video-to-obama-went-viral-do-you-really-love-america-receives-death-threats-from-left/' is not a date\n",
            "  \n",
            "/usr/local/lib/python3.7/dist-packages/ipykernel_launcher.py:6: UserWarning: 'https://fedup.wpengine.com/wp-content/uploads/2015/04/hillarystreetart.jpg' is not a date\n",
            "  \n",
            "/usr/local/lib/python3.7/dist-packages/ipykernel_launcher.py:6: UserWarning: 'https://fedup.wpengine.com/wp-content/uploads/2015/04/entitled.jpg' is not a date\n",
            "  \n",
            "/usr/local/lib/python3.7/dist-packages/ipykernel_launcher.py:6: UserWarning: 'MSNBC HOST Rudely Assumes Steel Worker Would Never Let His Son Follow in His Footsteps…He Couldn’t Be More Wrong [Video]' is not a date\n",
            "  \n"
          ]
        }
      ]
    },
    {
      "cell_type": "code",
      "source": [
        "len(df_all)"
      ],
      "metadata": {
        "colab": {
          "base_uri": "https://localhost:8080/"
        },
        "id": "n80Iui6UADFb",
        "outputId": "f97850fb-5659-4119-b12e-16695999f43b"
      },
      "execution_count": null,
      "outputs": [
        {
          "output_type": "execute_result",
          "data": {
            "text/plain": [
              "44898"
            ]
          },
          "metadata": {},
          "execution_count": 15
        }
      ]
    },
    {
      "cell_type": "markdown",
      "source": [
        "#### Datos nulos\n",
        "Una parte importantísima de la limpieza de cualquier base de datos es limpiar filas con datos nulos. A continuación se hace dicha limpieza."
      ],
      "metadata": {
        "id": "ewV-ckRvw42z"
      }
    },
    {
      "cell_type": "code",
      "source": [
        "df_all = df_all.dropna()"
      ],
      "metadata": {
        "id": "sUHqa7FKvjhQ"
      },
      "execution_count": null,
      "outputs": []
    },
    {
      "cell_type": "code",
      "source": [
        "len(df_all)"
      ],
      "metadata": {
        "colab": {
          "base_uri": "https://localhost:8080/"
        },
        "id": "sdeMHtX3zpgq",
        "outputId": "e4407af9-b29e-431b-fbf2-4118440c1911"
      },
      "execution_count": null,
      "outputs": [
        {
          "output_type": "execute_result",
          "data": {
            "text/plain": [
              "44888"
            ]
          },
          "metadata": {},
          "execution_count": 17
        }
      ]
    },
    {
      "cell_type": "markdown",
      "source": [
        "#### Datos duplicados\n",
        "\n",
        "A continuación se observan los datos y se busca información duplicada."
      ],
      "metadata": {
        "id": "Gmu_d-aLy93v"
      }
    },
    {
      "cell_type": "code",
      "source": [
        "# Borramos filas completamente duplicadas (si hubieran)\n",
        "df_all = df_all.drop_duplicates()"
      ],
      "metadata": {
        "id": "kReeupVHzBOB"
      },
      "execution_count": null,
      "outputs": []
    },
    {
      "cell_type": "code",
      "source": [
        "len(df_all)"
      ],
      "metadata": {
        "colab": {
          "base_uri": "https://localhost:8080/"
        },
        "id": "RoG8OVT6zwme",
        "outputId": "ed39cd23-a3bf-4317-8ab7-429e789763c1"
      },
      "execution_count": null,
      "outputs": [
        {
          "output_type": "execute_result",
          "data": {
            "text/plain": [
              "44679"
            ]
          },
          "metadata": {},
          "execution_count": 19
        }
      ]
    },
    {
      "cell_type": "markdown",
      "source": [
        "Al ejecutar el comando anterior, se deberían haber borrado del dataset todo dato tal que el valor de cada una de sus features es igual al de otro dato al mismo tiempo. Sin embargo, es dificil que una situación así pueda ocurrir. En muchos casos, existe la posibilidad de que solo el título se encuentre duplicado en muchas filas, o que el texto se encuentre duplicado, pero que los otros atributos también sean distintos. Dado que trabajaremos solo con el texto y título de las noticias, nos interesa que esos datos sean los que no estén repetidos en varias noticias."
      ],
      "metadata": {
        "id": "F64zBchC0yR-"
      }
    },
    {
      "cell_type": "code",
      "source": [
        "df_all = df_all.drop_duplicates(subset=['title','text'])\n",
        "df_all.reset_index(drop=True, inplace=True)"
      ],
      "metadata": {
        "id": "Mt7_oyX0zDrz"
      },
      "execution_count": null,
      "outputs": []
    },
    {
      "cell_type": "code",
      "source": [
        "len(df_all)"
      ],
      "metadata": {
        "colab": {
          "base_uri": "https://localhost:8080/"
        },
        "id": "Iq-UVLsFz2DR",
        "outputId": "b7078740-70fa-4815-b0f9-c2c1fbfce11c"
      },
      "execution_count": null,
      "outputs": [
        {
          "output_type": "execute_result",
          "data": {
            "text/plain": [
              "39099"
            ]
          },
          "metadata": {},
          "execution_count": 21
        }
      ]
    },
    {
      "cell_type": "markdown",
      "source": [
        "Finalmente, observamos estadísticas de nuestro dataset completamente limpio."
      ],
      "metadata": {
        "id": "aBKNYnmw0JBt"
      }
    },
    {
      "cell_type": "code",
      "source": [
        "df_all.describe()"
      ],
      "metadata": {
        "colab": {
          "base_uri": "https://localhost:8080/",
          "height": 292
        },
        "id": "ue8ZZDVW0Jdw",
        "outputId": "fc2a4d70-1813-4501-9b1f-b7bd02d793eb"
      },
      "execution_count": null,
      "outputs": [
        {
          "output_type": "stream",
          "name": "stderr",
          "text": [
            "/usr/local/lib/python3.7/dist-packages/ipykernel_launcher.py:1: FutureWarning: Treating datetime data as categorical rather than numeric in `.describe` is deprecated and will be removed in a future version of pandas. Specify `datetime_is_numeric=True` to silence this warning and adopt the future behavior now.\n",
            "  \"\"\"Entry point for launching an IPython kernel.\n"
          ]
        },
        {
          "output_type": "execute_result",
          "data": {
            "text/html": [
              "\n",
              "  <div id=\"df-7b56cffc-a0d5-473e-a62a-afcd9b95b9ab\">\n",
              "    <div class=\"colab-df-container\">\n",
              "      <div>\n",
              "<style scoped>\n",
              "    .dataframe tbody tr th:only-of-type {\n",
              "        vertical-align: middle;\n",
              "    }\n",
              "\n",
              "    .dataframe tbody tr th {\n",
              "        vertical-align: top;\n",
              "    }\n",
              "\n",
              "    .dataframe thead th {\n",
              "        text-align: right;\n",
              "    }\n",
              "</style>\n",
              "<table border=\"1\" class=\"dataframe\">\n",
              "  <thead>\n",
              "    <tr style=\"text-align: right;\">\n",
              "      <th></th>\n",
              "      <th>title</th>\n",
              "      <th>text</th>\n",
              "      <th>subject</th>\n",
              "      <th>date</th>\n",
              "      <th>is_fake</th>\n",
              "    </tr>\n",
              "  </thead>\n",
              "  <tbody>\n",
              "    <tr>\n",
              "      <th>count</th>\n",
              "      <td>39099</td>\n",
              "      <td>39099</td>\n",
              "      <td>39099</td>\n",
              "      <td>39099</td>\n",
              "      <td>39099</td>\n",
              "    </tr>\n",
              "    <tr>\n",
              "      <th>unique</th>\n",
              "      <td>38723</td>\n",
              "      <td>38640</td>\n",
              "      <td>7</td>\n",
              "      <td>1010</td>\n",
              "      <td>2</td>\n",
              "    </tr>\n",
              "    <tr>\n",
              "      <th>top</th>\n",
              "      <td>Factbox: Trump fills top jobs for his administ...</td>\n",
              "      <td></td>\n",
              "      <td>politicsNews</td>\n",
              "      <td>2017-12-06 00:00:00</td>\n",
              "      <td>False</td>\n",
              "    </tr>\n",
              "    <tr>\n",
              "      <th>freq</th>\n",
              "      <td>14</td>\n",
              "      <td>445</td>\n",
              "      <td>15881</td>\n",
              "      <td>177</td>\n",
              "      <td>21197</td>\n",
              "    </tr>\n",
              "    <tr>\n",
              "      <th>first</th>\n",
              "      <td>NaN</td>\n",
              "      <td>NaN</td>\n",
              "      <td>NaN</td>\n",
              "      <td>2015-03-31 00:00:00</td>\n",
              "      <td>NaN</td>\n",
              "    </tr>\n",
              "    <tr>\n",
              "      <th>last</th>\n",
              "      <td>NaN</td>\n",
              "      <td>NaN</td>\n",
              "      <td>NaN</td>\n",
              "      <td>2018-02-19 00:00:00</td>\n",
              "      <td>NaN</td>\n",
              "    </tr>\n",
              "  </tbody>\n",
              "</table>\n",
              "</div>\n",
              "      <button class=\"colab-df-convert\" onclick=\"convertToInteractive('df-7b56cffc-a0d5-473e-a62a-afcd9b95b9ab')\"\n",
              "              title=\"Convert this dataframe to an interactive table.\"\n",
              "              style=\"display:none;\">\n",
              "        \n",
              "  <svg xmlns=\"http://www.w3.org/2000/svg\" height=\"24px\"viewBox=\"0 0 24 24\"\n",
              "       width=\"24px\">\n",
              "    <path d=\"M0 0h24v24H0V0z\" fill=\"none\"/>\n",
              "    <path d=\"M18.56 5.44l.94 2.06.94-2.06 2.06-.94-2.06-.94-.94-2.06-.94 2.06-2.06.94zm-11 1L8.5 8.5l.94-2.06 2.06-.94-2.06-.94L8.5 2.5l-.94 2.06-2.06.94zm10 10l.94 2.06.94-2.06 2.06-.94-2.06-.94-.94-2.06-.94 2.06-2.06.94z\"/><path d=\"M17.41 7.96l-1.37-1.37c-.4-.4-.92-.59-1.43-.59-.52 0-1.04.2-1.43.59L10.3 9.45l-7.72 7.72c-.78.78-.78 2.05 0 2.83L4 21.41c.39.39.9.59 1.41.59.51 0 1.02-.2 1.41-.59l7.78-7.78 2.81-2.81c.8-.78.8-2.07 0-2.86zM5.41 20L4 18.59l7.72-7.72 1.47 1.35L5.41 20z\"/>\n",
              "  </svg>\n",
              "      </button>\n",
              "      \n",
              "  <style>\n",
              "    .colab-df-container {\n",
              "      display:flex;\n",
              "      flex-wrap:wrap;\n",
              "      gap: 12px;\n",
              "    }\n",
              "\n",
              "    .colab-df-convert {\n",
              "      background-color: #E8F0FE;\n",
              "      border: none;\n",
              "      border-radius: 50%;\n",
              "      cursor: pointer;\n",
              "      display: none;\n",
              "      fill: #1967D2;\n",
              "      height: 32px;\n",
              "      padding: 0 0 0 0;\n",
              "      width: 32px;\n",
              "    }\n",
              "\n",
              "    .colab-df-convert:hover {\n",
              "      background-color: #E2EBFA;\n",
              "      box-shadow: 0px 1px 2px rgba(60, 64, 67, 0.3), 0px 1px 3px 1px rgba(60, 64, 67, 0.15);\n",
              "      fill: #174EA6;\n",
              "    }\n",
              "\n",
              "    [theme=dark] .colab-df-convert {\n",
              "      background-color: #3B4455;\n",
              "      fill: #D2E3FC;\n",
              "    }\n",
              "\n",
              "    [theme=dark] .colab-df-convert:hover {\n",
              "      background-color: #434B5C;\n",
              "      box-shadow: 0px 1px 3px 1px rgba(0, 0, 0, 0.15);\n",
              "      filter: drop-shadow(0px 1px 2px rgba(0, 0, 0, 0.3));\n",
              "      fill: #FFFFFF;\n",
              "    }\n",
              "  </style>\n",
              "\n",
              "      <script>\n",
              "        const buttonEl =\n",
              "          document.querySelector('#df-7b56cffc-a0d5-473e-a62a-afcd9b95b9ab button.colab-df-convert');\n",
              "        buttonEl.style.display =\n",
              "          google.colab.kernel.accessAllowed ? 'block' : 'none';\n",
              "\n",
              "        async function convertToInteractive(key) {\n",
              "          const element = document.querySelector('#df-7b56cffc-a0d5-473e-a62a-afcd9b95b9ab');\n",
              "          const dataTable =\n",
              "            await google.colab.kernel.invokeFunction('convertToInteractive',\n",
              "                                                     [key], {});\n",
              "          if (!dataTable) return;\n",
              "\n",
              "          const docLinkHtml = 'Like what you see? Visit the ' +\n",
              "            '<a target=\"_blank\" href=https://colab.research.google.com/notebooks/data_table.ipynb>data table notebook</a>'\n",
              "            + ' to learn more about interactive tables.';\n",
              "          element.innerHTML = '';\n",
              "          dataTable['output_type'] = 'display_data';\n",
              "          await google.colab.output.renderOutput(dataTable, element);\n",
              "          const docLink = document.createElement('div');\n",
              "          docLink.innerHTML = docLinkHtml;\n",
              "          element.appendChild(docLink);\n",
              "        }\n",
              "      </script>\n",
              "    </div>\n",
              "  </div>\n",
              "  "
            ],
            "text/plain": [
              "                                                    title  ... is_fake\n",
              "count                                               39099  ...   39099\n",
              "unique                                              38723  ...       2\n",
              "top     Factbox: Trump fills top jobs for his administ...  ...   False\n",
              "freq                                                   14  ...   21197\n",
              "first                                                 NaN  ...     NaN\n",
              "last                                                  NaN  ...     NaN\n",
              "\n",
              "[6 rows x 5 columns]"
            ]
          },
          "metadata": {},
          "execution_count": 22
        }
      ]
    },
    {
      "cell_type": "markdown",
      "source": [
        "La proporción de noticias falsas vs verdaderas en los datos es la siguiente:"
      ],
      "metadata": {
        "id": "gY9iSPOR0dl9"
      }
    },
    {
      "cell_type": "code",
      "source": [
        "df_all['is_fake'].value_counts()"
      ],
      "metadata": {
        "colab": {
          "base_uri": "https://localhost:8080/"
        },
        "id": "mk3GOf2P0e4i",
        "outputId": "5b7d48ee-4233-49a0-d82f-0a3c3c1ba5c4"
      },
      "execution_count": null,
      "outputs": [
        {
          "output_type": "execute_result",
          "data": {
            "text/plain": [
              "False    21197\n",
              "True     17902\n",
              "Name: is_fake, dtype: int64"
            ]
          },
          "metadata": {},
          "execution_count": 23
        }
      ]
    },
    {
      "cell_type": "code",
      "source": [
        "plt.bar(['Real news', 'Fake news'], df_all['is_fake'].value_counts())"
      ],
      "metadata": {
        "colab": {
          "base_uri": "https://localhost:8080/",
          "height": 282
        },
        "id": "EpYFLXRh_P2Q",
        "outputId": "b77eb48a-9cfc-4108-dd86-9c82205dbf32"
      },
      "execution_count": null,
      "outputs": [
        {
          "output_type": "execute_result",
          "data": {
            "text/plain": [
              "<BarContainer object of 2 artists>"
            ]
          },
          "metadata": {},
          "execution_count": 24
        },
        {
          "output_type": "display_data",
          "data": {
            "image/png": "[encoded data removed]",
            "text/plain": [
              "<Figure size 432x288 with 1 Axes>"
            ]
          },
          "metadata": {
            "needs_background": "light"
          }
        }
      ]
    },
    {
      "cell_type": "markdown",
      "source": [
        "Y la cantidad de noticias por categoría se presenta a continuación:"
      ],
      "metadata": {
        "id": "42lIl9Ts0kFu"
      }
    },
    {
      "cell_type": "code",
      "source": [
        "df_all['subject'].value_counts()"
      ],
      "metadata": {
        "colab": {
          "base_uri": "https://localhost:8080/"
        },
        "id": "pn_OquRa0g6e",
        "outputId": "c1ff357e-2e82-46bd-957f-a9480d1baffa"
      },
      "execution_count": null,
      "outputs": [
        {
          "output_type": "execute_result",
          "data": {
            "text/plain": [
              "politicsNews       15881\n",
              "worldnews           9986\n",
              "News                9050\n",
              "left-news           2484\n",
              "Government News      915\n",
              "US_News              397\n",
              "Middle-east          386\n",
              "Name: subject, dtype: int64"
            ]
          },
          "metadata": {},
          "execution_count": 25
        }
      ]
    },
    {
      "cell_type": "code",
      "source": [
        "fig, ax = plt.subplots()\n",
        "df_all['subject'].value_counts().plot.bar(ax=ax)\n",
        "ax.set_xticklabels(ax.get_xticklabels(), fontsize=12, rotation=45, ha=\"right\", rotation_mode='anchor')\n",
        "fig.savefig(\"dist-noticias.pdf\", bbox_inches='tight')"
      ],
      "metadata": {
        "colab": {
          "base_uri": "https://localhost:8080/",
          "height": 343
        },
        "id": "-66OeH6ZkeQi",
        "outputId": "0f493458-ca28-4061-ca09-a17a29c68ebb"
      },
      "execution_count": null,
      "outputs": [
        {
          "output_type": "display_data",
          "data": {
            "image/png": "[encoded data removed]",
            "text/plain": [
              "<Figure size 432x288 with 1 Axes>"
            ]
          },
          "metadata": {
            "needs_background": "light"
          }
        }
      ]
    },
    {
      "cell_type": "markdown",
      "source": [
        "#### Procesamiento de las noticias con herramientas de PLN"
      ],
      "metadata": {
        "id": "1MsmbBtk1bLK"
      }
    },
    {
      "cell_type": "markdown",
      "source": [
        "Utilizaremos la librería `spaCy`, un ***natural language toolkit***, para aplicar procesamiento del lenguaje natural que nos permita extraer la mayor cantidad de información de nuestras noticias."
      ],
      "metadata": {
        "id": "YnLPNdmD10Ah"
      }
    },
    {
      "cell_type": "code",
      "source": [
        "# Esto puede ser ignorado si existen los archivos text.npy y text-title.npy\n",
        "import spacy\n",
        "nlp = spacy.load(\"en_core_web_lg\")"
      ],
      "metadata": {
        "id": "hMOzcbnf2CoC"
      },
      "execution_count": null,
      "outputs": []
    },
    {
      "cell_type": "markdown",
      "source": [
        "La función `process_text` nos ayuda a aplicar *word embeddings* de Spacy. En esta técnica se pide directamente a Spacy el vector que representa a cada frase recibida. Además, utilizamos un sistema de caché para que en caso de que desee calcular el vector de alguna frase que ya fue procesada, se entregue inmediatamente ese resultado."
      ],
      "metadata": {
        "id": "Bdfhc6O-3oUN"
      }
    },
    {
      "cell_type": "code",
      "source": [
        "# Esto puede ser ignorado si existen los archivos text.npy y text-title.npy\n",
        "import functools\n",
        "import diskcache\n",
        "\n",
        "process_text_cache = diskcache.Cache(\n",
        "    directory=\"/gdrive/Shareddrives/Proyecto Minería de Datos/process_text_cache_v2/\"\n",
        ")\n",
        "\n",
        "@process_text_cache.memoize()\n",
        "def process_text(text):\n",
        "    return nlp(text).vector"
      ],
      "metadata": {
        "id": "phIdovZA3scL"
      },
      "execution_count": null,
      "outputs": []
    },
    {
      "cell_type": "markdown",
      "source": [
        "Una vez transformado el texto eliminando las stop words junto con las transformaciones de palabras por sus respectivos lemas, entre otros procesamiento del lenguaje natural, se guarda un nuevo dataframe con los textos procesados con la finalidad de tener rápido acceso al dataset con el que trabajaremos de aquí en adelante y no necesitar correr el código con PLN otra vez."
      ],
      "metadata": {
        "id": "cQ5IZ0Pg4AuX"
      }
    },
    {
      "cell_type": "code",
      "source": [
        "#Si existe un archivo text.npy (con los textos procesados), lo usamos y evitamos la hora de \n",
        "#procesamiento con PLN\n",
        "saved_text_path = Path('text.npy')\n",
        "if saved_text_path.exists():\n",
        "    with saved_text_path.open(\"rb\") as f:\n",
        "        text = np.load(f)\n",
        "\n",
        "# En caso contrario, procesamos los datos y los guardamos en un archivo para no volver a correrlo\n",
        "else:\n",
        "    text = np.vectorize(process_text, signature=\"()->(k)\")(df_all['text'].to_numpy())  # 57 minutos\n",
        "    with saved_text_path.open(\"wb\") as f:\n",
        "        np.save(f, text)"
      ],
      "metadata": {
        "id": "d_hdiPQk3ls4"
      },
      "execution_count": null,
      "outputs": []
    },
    {
      "cell_type": "code",
      "source": [
        "#Idem que la celda superior, pero en este caso con los textos y títulos de las noticias\n",
        "saved_text_path = Path('text-title.npy')\n",
        "\n",
        "if saved_text_path.exists():\n",
        "    with saved_text_path.open(\"rb\") as f:\n",
        "        textPlusTitle = np.load(f)\n",
        "else: \n",
        "    df_textPlusTitle = df_all['title'] + df_all['text']\n",
        "    textPlusTitle = np.vectorize(process_text, signature=\"()->(k)\")(df_textPlusTitle.to_numpy())  # ?? minutos\n",
        "    with saved_text_path.open(\"wb\") as f:\n",
        "        np.save(f, textPlusTitle)"
      ],
      "metadata": {
        "id": "ISjCXOem6hJh"
      },
      "execution_count": null,
      "outputs": []
    },
    {
      "cell_type": "markdown",
      "source": [
        "### 3.3 Vectorizador y separación de Xtrain e Xtest\n",
        "Ahora que tenemos nuestro dataset preparado, es hora de definir la matriz X y el vector y, además de separar en set de train y de test con los que probaremos los clasificadores de noticias."
      ],
      "metadata": {
        "id": "QvB0kXEL4exF"
      }
    },
    {
      "cell_type": "code",
      "source": [
        "from sklearn.model_selection import train_test_split\n",
        "from sklearn.naive_bayes import GaussianNB\n",
        "from sklearn.tree import DecisionTreeClassifier\n",
        "from sklearn.metrics import confusion_matrix, classification_report"
      ],
      "metadata": {
        "id": "6rpSplIm4b30"
      },
      "execution_count": null,
      "outputs": []
    },
    {
      "cell_type": "markdown",
      "source": [
        "Nos interesaba para esta entrega final analizar los efectos de considerar además del contenido de la noticia a sus titulares. Para esto, se definirá como `X` a la matriz de datos que considera solamente los textos de las noticias para clasificarlas..."
      ],
      "metadata": {
        "id": "RiMiub0CCBno"
      }
    },
    {
      "cell_type": "code",
      "source": [
        "X = text\n",
        "y = df_all[['is_fake', 'subject']]"
      ],
      "metadata": {
        "id": "6lpC-Hln4_cU"
      },
      "execution_count": null,
      "outputs": []
    },
    {
      "cell_type": "markdown",
      "source": [
        "... y se definirá como `X2` a la matriz de datos que considera tanto el título de la noticia como su contenido de texto para clasificar las noticias."
      ],
      "metadata": {
        "id": "dSKc_iAHGg3n"
      }
    },
    {
      "cell_type": "code",
      "source": [
        "X2 = textPlusTitle"
      ],
      "metadata": {
        "id": "AOrz_jXGbACQ"
      },
      "execution_count": null,
      "outputs": []
    },
    {
      "cell_type": "markdown",
      "source": [
        "A continuación se presentan las dimensiones de la matriz `X` y de la matriz `X2`."
      ],
      "metadata": {
        "id": "Pcj4VJX9HUFE"
      }
    },
    {
      "cell_type": "code",
      "source": [
        "X.shape"
      ],
      "metadata": {
        "colab": {
          "base_uri": "https://localhost:8080/"
        },
        "id": "9LxA-d8jISiN",
        "outputId": "1c08cd1e-f8db-472b-d120-3c54c85c2428"
      },
      "execution_count": null,
      "outputs": [
        {
          "output_type": "execute_result",
          "data": {
            "text/plain": [
              "(39099, 300)"
            ]
          },
          "metadata": {},
          "execution_count": 77
        }
      ]
    },
    {
      "cell_type": "code",
      "source": [
        "X2.shape"
      ],
      "metadata": {
        "colab": {
          "base_uri": "https://localhost:8080/"
        },
        "id": "6PrvZMREH1Jb",
        "outputId": "6e034333-bbf6-4c0f-cc05-77cc8e176e6b"
      },
      "execution_count": null,
      "outputs": [
        {
          "output_type": "execute_result",
          "data": {
            "text/plain": [
              "(39099, 300)"
            ]
          },
          "metadata": {},
          "execution_count": 78
        }
      ]
    },
    {
      "cell_type": "markdown",
      "source": [
        "Dado que 300 dimensiones es un número de features razonable, no será necesario aplicar técnicas de reducción de datos. \n",
        "\n",
        "Recordemos, además, que después de la etapa de procesamiento de datos nos quedamos un dataset de 39.099 noticias, de diferentes temáticas."
      ],
      "metadata": {
        "id": "sT5wHT61Hn_G"
      }
    },
    {
      "cell_type": "markdown",
      "source": [
        "Procedemos a separar el set de train y el set de test en una proporción 80/20, para ambas matrices `X` y `X2`:"
      ],
      "metadata": {
        "id": "yfWhBZKJ5Gf0"
      }
    },
    {
      "cell_type": "code",
      "source": [
        "Xtrain, Xtest, ytrain, ytest = train_test_split(X, y, test_size=0.2,random_state=34)\n",
        "print('\\nTotal number of samples in the Train Dataset :', Xtrain.shape[0])\n",
        "print('Total number of samples in the Test Dataset :', Xtest.shape[0])"
      ],
      "metadata": {
        "colab": {
          "base_uri": "https://localhost:8080/"
        },
        "id": "pSwgV0NVIQ4U",
        "outputId": "f1e6b346-10b7-44ef-e88d-f6ea74ceea2b"
      },
      "execution_count": null,
      "outputs": [
        {
          "output_type": "stream",
          "name": "stdout",
          "text": [
            "\n",
            "Total number of samples in the Train Dataset : 31279\n",
            "Total number of samples in the Test Dataset : 7820\n"
          ]
        }
      ]
    },
    {
      "cell_type": "code",
      "source": [
        "X2train, X2test, y2train, y2test = train_test_split(X2, y, test_size=0.2,random_state=34)\n",
        "print('\\nTotal number of samples in the Train Dataset :', X2train.shape[0])\n",
        "print('Total number of samples in the Test Dataset :', X2test.shape[0])"
      ],
      "metadata": {
        "colab": {
          "base_uri": "https://localhost:8080/"
        },
        "id": "6glU_6MSbNA2",
        "outputId": "cf081e9b-6aa8-471d-9b23-0968ad9d4abe"
      },
      "execution_count": null,
      "outputs": [
        {
          "output_type": "stream",
          "name": "stdout",
          "text": [
            "\n",
            "Total number of samples in the Train Dataset : 31279\n",
            "Total number of samples in the Test Dataset : 7820\n"
          ]
        }
      ]
    },
    {
      "cell_type": "markdown",
      "source": [
        "# 4) Entrenamiento y resultados"
      ],
      "metadata": {
        "id": "wlK8qRvrIWsG"
      }
    },
    {
      "cell_type": "markdown",
      "source": [
        "#### **Naive Bayes**\n",
        "\n",
        "El clasificador Bayesiano ingenuo es un clasificador probabilístico basado en la Teoría de Bayes. Su algoritmo, dada una instancia de una clase (es decir, dados los valores de sus atributos), busca maximizar la probabilidad de ocurrencia de la clase real de esa instancia. \n",
        "\n",
        "Este es un algoritmos de aprendizaje de máquina\n",
        "muy utilizado en la práctica. Tiene aplicaciones\n",
        "exitosas en diagnósticos médicos, clasificación de\n",
        "texto, entre otros.\n",
        "\n",
        "En esta ocasión, el algoritmo calculará la probabilidad de que cada noticia pueda ser considerada falsa o verdadera, y finalmente tomará la decisión en base a cuál máximiza esta probabilidad. Creemos que Naive Bayes será sumamente útil para determinar si un texto es considerado como falso o no. Esto se debe a que la matriz X generada tiene columnas independientes gracias al vectorizer, pues cada columna será un conteo de cuántas veces aparece una cierta palabra en el texto, y cada palabra sería independiente de otra gracias al procesamiento de lenguaje natural que ya se hizo. Además, Naive Bayes es muy rápido aún si el dataset es extenso, lo cual nos favorece pues tenemos un gran dataset de noticias."
      ],
      "metadata": {
        "id": "pJGtmLryI8SC"
      }
    },
    {
      "cell_type": "markdown",
      "source": [
        "A continuación se aplica Naive Bayes considerando **sólo los textos** de las noticias:"
      ],
      "metadata": {
        "id": "Qutt7tvlJEG4"
      }
    },
    {
      "cell_type": "code",
      "source": [
        "bnb = GaussianNB().fit(Xtrain, ytrain['is_fake'])\n",
        "print('\\nAccuracy score :',bnb.score(Xtest, ytest['is_fake']))"
      ],
      "metadata": {
        "colab": {
          "base_uri": "https://localhost:8080/"
        },
        "id": "FiPA7XXLIQUg",
        "outputId": "da0c597d-a546-48c1-91fc-36dc75634092"
      },
      "execution_count": null,
      "outputs": [
        {
          "output_type": "stream",
          "name": "stdout",
          "text": [
            "\n",
            "Accuracy score : 0.8985933503836318\n"
          ]
        }
      ]
    },
    {
      "cell_type": "markdown",
      "source": [
        "y ahora se aplica Naive Bayes considerando tanto los **títulos** como los **textos** de las noticias:"
      ],
      "metadata": {
        "id": "Jx5RSAWJJVHC"
      }
    },
    {
      "cell_type": "code",
      "source": [
        "bnb2 = GaussianNB().fit(X2train, y2train['is_fake'])\n",
        "print('\\nAccuracy score :',bnb2.score(X2test, y2test['is_fake']))"
      ],
      "metadata": {
        "colab": {
          "base_uri": "https://localhost:8080/"
        },
        "id": "fnXiRU5DJgWb",
        "outputId": "b10e343c-f1a4-47c2-f05d-1d3d2d296175"
      },
      "execution_count": null,
      "outputs": [
        {
          "output_type": "stream",
          "name": "stdout",
          "text": [
            "\n",
            "Accuracy score : 0.8843989769820972\n"
          ]
        }
      ]
    },
    {
      "cell_type": "markdown",
      "source": [
        "Podemos observar que, pese a que los accuracys obtenidos son bastante similares, al agregar los títulos de las noticias el accuracy baja de un **89.85%** a un **88.43%**. Veamos un poco más de cerca los resultados:"
      ],
      "metadata": {
        "id": "1EHwuckPJ7j_"
      }
    },
    {
      "cell_type": "markdown",
      "source": [
        "**Matrices de confusión:**"
      ],
      "metadata": {
        "id": "aJwJzRtbSIQJ"
      }
    },
    {
      "cell_type": "code",
      "source": [
        "ypred = bnb.predict(Xtest)\n",
        "y2pred = bnb2.predict(X2test)\n",
        "cm = confusion_matrix(ytest['is_fake'], ypred)\n",
        "cm2 = confusion_matrix(y2test['is_fake'], y2pred)"
      ],
      "metadata": {
        "id": "70rTa56Hh4__"
      },
      "execution_count": null,
      "outputs": []
    },
    {
      "cell_type": "code",
      "source": [
        "fig, (ax1, ax2) = plt.subplots(2, figsize=(5,7))\n",
        "categorias = ['Real', 'Fake'] #0: Real, 1: Fake\n",
        "\n",
        "sns.heatmap(cm, annot=True, ax = ax1, fmt='g');\n",
        "ax1.set_xlabel('Predicted labels');\n",
        "ax1.set_ylabel('True labels'); \n",
        "ax1.set_title('Confusion Matrix Naive Bayes \\n (only text)'); \n",
        "ax1.xaxis.set_ticklabels(categorias); \n",
        "ax1.yaxis.set_ticklabels(categorias);\n",
        "\n",
        "sns.heatmap(cm2, annot=True, ax = ax2, fmt='g');\n",
        "ax2.set_xlabel('Predicted labels');\n",
        "ax2.set_ylabel('True labels'); \n",
        "ax2.set_title('Confusion Matrix Naive Bayes \\n (title + text)'); \n",
        "ax2.xaxis.set_ticklabels(categorias); \n",
        "ax2.yaxis.set_ticklabels(categorias);\n",
        "\n",
        "fig.tight_layout()\n",
        "plt.show()\n",
        "\n",
        "fig.savefig(\"CM-NB.pdf\", bbox_inches='tight')"
      ],
      "metadata": {
        "colab": {
          "base_uri": "https://localhost:8080/",
          "height": 513
        },
        "id": "5H26eKkYh62V",
        "outputId": "e6c8c3d1-afa0-43cf-b4cd-94e0bbfdf5ac"
      },
      "execution_count": null,
      "outputs": [
        {
          "output_type": "display_data",
          "data": {
            "image/png": "[encoded data removed]",
            "text/plain": [
              "<Figure size 360x504 with 4 Axes>"
            ]
          },
          "metadata": {
            "needs_background": "light"
          }
        }
      ]
    },
    {
      "cell_type": "markdown",
      "source": [
        "**Reporte de precision y recall:**\n",
        "\n",
        "Recordar que el vector `y` viene de la columna del dataset `is_fake`, que es True (1) cuando la noticia es falsa y es False (0) cuando la noticia es clasificada como real."
      ],
      "metadata": {
        "id": "APl0HGG3SDA8"
      }
    },
    {
      "cell_type": "code",
      "source": [
        "print('Classification Report (only text):\\n\\n',classification_report(ytest['is_fake'], ypred))"
      ],
      "metadata": {
        "colab": {
          "base_uri": "https://localhost:8080/"
        },
        "id": "KdoGvwrMIjzv",
        "outputId": "64be153f-bb74-4c3a-a328-10aba0cb18eb"
      },
      "execution_count": null,
      "outputs": [
        {
          "output_type": "stream",
          "name": "stdout",
          "text": [
            "Classification Report (only text):\n",
            "\n",
            "               precision    recall  f1-score   support\n",
            "\n",
            "       False       0.90      0.91      0.91      4261\n",
            "        True       0.89      0.88      0.89      3559\n",
            "\n",
            "    accuracy                           0.90      7820\n",
            "   macro avg       0.90      0.90      0.90      7820\n",
            "weighted avg       0.90      0.90      0.90      7820\n",
            "\n"
          ]
        }
      ]
    },
    {
      "cell_type": "code",
      "source": [
        "print('Classification Report (text + title):\\n\\n',classification_report(y2test['is_fake'], y2pred))"
      ],
      "metadata": {
        "colab": {
          "base_uri": "https://localhost:8080/"
        },
        "id": "bxsZapv_be3X",
        "outputId": "092b87a3-5783-40fc-d0dd-876ab3bc456e"
      },
      "execution_count": null,
      "outputs": [
        {
          "output_type": "stream",
          "name": "stdout",
          "text": [
            "Classification Report (text + title):\n",
            "\n",
            "               precision    recall  f1-score   support\n",
            "\n",
            "       False       0.89      0.89      0.89      4261\n",
            "        True       0.87      0.87      0.87      3559\n",
            "\n",
            "    accuracy                           0.88      7820\n",
            "   macro avg       0.88      0.88      0.88      7820\n",
            "weighted avg       0.88      0.88      0.88      7820\n",
            "\n"
          ]
        }
      ]
    },
    {
      "cell_type": "markdown",
      "source": [
        "**Noticias mal clasificadas por temática:**\n",
        "\n",
        "A continuación se muestra un gráfico de torta que muestra las noticias mal clasificadas (solo considerando su texto), separadas por temáticas:"
      ],
      "metadata": {
        "id": "S4xte_xyRxFm"
      }
    },
    {
      "cell_type": "code",
      "source": [
        "colorsitos = plt.get_cmap('Set2').colors\n",
        "print(colorsitos)"
      ],
      "metadata": {
        "colab": {
          "base_uri": "https://localhost:8080/"
        },
        "id": "TZFKk5ZOLEPZ",
        "outputId": "d000654f-176f-4a18-af95-fc760a758106"
      },
      "execution_count": null,
      "outputs": [
        {
          "output_type": "stream",
          "name": "stdout",
          "text": [
            "((0.4, 0.7607843137254902, 0.6470588235294118), (0.9882352941176471, 0.5529411764705883, 0.3843137254901961), (0.5529411764705883, 0.6274509803921569, 0.796078431372549), (0.9058823529411765, 0.5411764705882353, 0.7647058823529411), (0.6509803921568628, 0.8470588235294118, 0.32941176470588235), (1.0, 0.8509803921568627, 0.1843137254901961), (0.8980392156862745, 0.7686274509803922, 0.5803921568627451), (0.7019607843137254, 0.7019607843137254, 0.7019607843137254))\n"
          ]
        }
      ]
    },
    {
      "cell_type": "code",
      "source": [
        "results = ytest.copy()\n",
        "results['pred'] = ypred\n",
        "results.head()"
      ],
      "metadata": {
        "colab": {
          "base_uri": "https://localhost:8080/",
          "height": 206
        },
        "id": "BGy_O9VMMgIN",
        "outputId": "2cdbac2d-e75d-4e18-98a5-f1976381ef28"
      },
      "execution_count": null,
      "outputs": [
        {
          "output_type": "execute_result",
          "data": {
            "text/html": [
              "\n",
              "  <div id=\"df-46b9639c-aa92-4fea-b32f-0dff48b50009\">\n",
              "    <div class=\"colab-df-container\">\n",
              "      <div>\n",
              "<style scoped>\n",
              "    .dataframe tbody tr th:only-of-type {\n",
              "        vertical-align: middle;\n",
              "    }\n",
              "\n",
              "    .dataframe tbody tr th {\n",
              "        vertical-align: top;\n",
              "    }\n",
              "\n",
              "    .dataframe thead th {\n",
              "        text-align: right;\n",
              "    }\n",
              "</style>\n",
              "<table border=\"1\" class=\"dataframe\">\n",
              "  <thead>\n",
              "    <tr style=\"text-align: right;\">\n",
              "      <th></th>\n",
              "      <th>is_fake</th>\n",
              "      <th>subject</th>\n",
              "      <th>pred</th>\n",
              "    </tr>\n",
              "  </thead>\n",
              "  <tbody>\n",
              "    <tr>\n",
              "      <th>9475</th>\n",
              "      <td>True</td>\n",
              "      <td>US_News</td>\n",
              "      <td>True</td>\n",
              "    </tr>\n",
              "    <tr>\n",
              "      <th>18140</th>\n",
              "      <td>False</td>\n",
              "      <td>politicsNews</td>\n",
              "      <td>False</td>\n",
              "    </tr>\n",
              "    <tr>\n",
              "      <th>6115</th>\n",
              "      <td>True</td>\n",
              "      <td>News</td>\n",
              "      <td>True</td>\n",
              "    </tr>\n",
              "    <tr>\n",
              "      <th>13852</th>\n",
              "      <td>True</td>\n",
              "      <td>left-news</td>\n",
              "      <td>False</td>\n",
              "    </tr>\n",
              "    <tr>\n",
              "      <th>18781</th>\n",
              "      <td>True</td>\n",
              "      <td>Middle-east</td>\n",
              "      <td>False</td>\n",
              "    </tr>\n",
              "  </tbody>\n",
              "</table>\n",
              "</div>\n",
              "      <button class=\"colab-df-convert\" onclick=\"convertToInteractive('df-46b9639c-aa92-4fea-b32f-0dff48b50009')\"\n",
              "              title=\"Convert this dataframe to an interactive table.\"\n",
              "              style=\"display:none;\">\n",
              "        \n",
              "  <svg xmlns=\"http://www.w3.org/2000/svg\" height=\"24px\"viewBox=\"0 0 24 24\"\n",
              "       width=\"24px\">\n",
              "    <path d=\"M0 0h24v24H0V0z\" fill=\"none\"/>\n",
              "    <path d=\"M18.56 5.44l.94 2.06.94-2.06 2.06-.94-2.06-.94-.94-2.06-.94 2.06-2.06.94zm-11 1L8.5 8.5l.94-2.06 2.06-.94-2.06-.94L8.5 2.5l-.94 2.06-2.06.94zm10 10l.94 2.06.94-2.06 2.06-.94-2.06-.94-.94-2.06-.94 2.06-2.06.94z\"/><path d=\"M17.41 7.96l-1.37-1.37c-.4-.4-.92-.59-1.43-.59-.52 0-1.04.2-1.43.59L10.3 9.45l-7.72 7.72c-.78.78-.78 2.05 0 2.83L4 21.41c.39.39.9.59 1.41.59.51 0 1.02-.2 1.41-.59l7.78-7.78 2.81-2.81c.8-.78.8-2.07 0-2.86zM5.41 20L4 18.59l7.72-7.72 1.47 1.35L5.41 20z\"/>\n",
              "  </svg>\n",
              "      </button>\n",
              "      \n",
              "  <style>\n",
              "    .colab-df-container {\n",
              "      display:flex;\n",
              "      flex-wrap:wrap;\n",
              "      gap: 12px;\n",
              "    }\n",
              "\n",
              "    .colab-df-convert {\n",
              "      background-color: #E8F0FE;\n",
              "      border: none;\n",
              "      border-radius: 50%;\n",
              "      cursor: pointer;\n",
              "      display: none;\n",
              "      fill: #1967D2;\n",
              "      height: 32px;\n",
              "      padding: 0 0 0 0;\n",
              "      width: 32px;\n",
              "    }\n",
              "\n",
              "    .colab-df-convert:hover {\n",
              "      background-color: #E2EBFA;\n",
              "      box-shadow: 0px 1px 2px rgba(60, 64, 67, 0.3), 0px 1px 3px 1px rgba(60, 64, 67, 0.15);\n",
              "      fill: #174EA6;\n",
              "    }\n",
              "\n",
              "    [theme=dark] .colab-df-convert {\n",
              "      background-color: #3B4455;\n",
              "      fill: #D2E3FC;\n",
              "    }\n",
              "\n",
              "    [theme=dark] .colab-df-convert:hover {\n",
              "      background-color: #434B5C;\n",
              "      box-shadow: 0px 1px 3px 1px rgba(0, 0, 0, 0.15);\n",
              "      filter: drop-shadow(0px 1px 2px rgba(0, 0, 0, 0.3));\n",
              "      fill: #FFFFFF;\n",
              "    }\n",
              "  </style>\n",
              "\n",
              "      <script>\n",
              "        const buttonEl =\n",
              "          document.querySelector('#df-46b9639c-aa92-4fea-b32f-0dff48b50009 button.colab-df-convert');\n",
              "        buttonEl.style.display =\n",
              "          google.colab.kernel.accessAllowed ? 'block' : 'none';\n",
              "\n",
              "        async function convertToInteractive(key) {\n",
              "          const element = document.querySelector('#df-46b9639c-aa92-4fea-b32f-0dff48b50009');\n",
              "          const dataTable =\n",
              "            await google.colab.kernel.invokeFunction('convertToInteractive',\n",
              "                                                     [key], {});\n",
              "          if (!dataTable) return;\n",
              "\n",
              "          const docLinkHtml = 'Like what you see? Visit the ' +\n",
              "            '<a target=\"_blank\" href=https://colab.research.google.com/notebooks/data_table.ipynb>data table notebook</a>'\n",
              "            + ' to learn more about interactive tables.';\n",
              "          element.innerHTML = '';\n",
              "          dataTable['output_type'] = 'display_data';\n",
              "          await google.colab.output.renderOutput(dataTable, element);\n",
              "          const docLink = document.createElement('div');\n",
              "          docLink.innerHTML = docLinkHtml;\n",
              "          element.appendChild(docLink);\n",
              "        }\n",
              "      </script>\n",
              "    </div>\n",
              "  </div>\n",
              "  "
            ],
            "text/plain": [
              "       is_fake       subject   pred\n",
              "9475      True       US_News   True\n",
              "18140    False  politicsNews  False\n",
              "6115      True          News   True\n",
              "13852     True     left-news  False\n",
              "18781     True   Middle-east  False"
            ]
          },
          "metadata": {},
          "execution_count": 88
        }
      ]
    },
    {
      "cell_type": "code",
      "source": [
        "df_errors_nb = results[results['is_fake'] != results['pred']]"
      ],
      "metadata": {
        "id": "38sqMrtpPi6Q"
      },
      "execution_count": null,
      "outputs": []
    },
    {
      "cell_type": "code",
      "source": [
        "nb_errors = df_errors_nb.groupby('subject').size()\n",
        "nb_errors"
      ],
      "metadata": {
        "colab": {
          "base_uri": "https://localhost:8080/"
        },
        "id": "BPawdI_xPjyK",
        "outputId": "7b1cf3e6-86e2-4b64-df38-d44b62a1665e"
      },
      "execution_count": null,
      "outputs": [
        {
          "output_type": "execute_result",
          "data": {
            "text/plain": [
              "subject\n",
              "Government News     64\n",
              "Middle-east         23\n",
              "News                71\n",
              "US_News             22\n",
              "left-news           85\n",
              "politicsNews       395\n",
              "worldnews          133\n",
              "dtype: int64"
            ]
          },
          "metadata": {},
          "execution_count": 90
        }
      ]
    },
    {
      "cell_type": "code",
      "source": [
        "plt.pie(nb_errors, labels = nb_errors.index.values.tolist(), autopct='%1.0f%%', colors=colorsitos, shadow=True)\n",
        "plt.title('Noticias mal clasificadas (Naive Bayes) por temática')\n",
        "plt.savefig(\"pie-NB-mal-clasificadas.pdf\", bbox_inches='tight')\n",
        "plt.show()"
      ],
      "metadata": {
        "colab": {
          "base_uri": "https://localhost:8080/",
          "height": 264
        },
        "id": "GY8dDlzTPuIV",
        "outputId": "fbdf5ef1-0e36-4b69-c620-90e74de850e8"
      },
      "execution_count": null,
      "outputs": [
        {
          "output_type": "display_data",
          "data": {
            "image/png": "[encoded data removed]",
            "text/plain": [
              "<Figure size 432x288 with 1 Axes>"
            ]
          },
          "metadata": {}
        }
      ]
    },
    {
      "cell_type": "markdown",
      "source": [
        "Y ahora se realiza el mismo procedimiento pero considerando los textos sumados a los títulos de las noticias:"
      ],
      "metadata": {
        "id": "hmP5TorKS_iu"
      }
    },
    {
      "cell_type": "code",
      "source": [
        "results2 = y2test.copy()\n",
        "results2['pred'] = y2pred\n",
        "results2.head()"
      ],
      "metadata": {
        "colab": {
          "base_uri": "https://localhost:8080/",
          "height": 206
        },
        "id": "gEij5c2uTAK_",
        "outputId": "19ec03e9-10ee-4add-f22f-ea130a2e32c4"
      },
      "execution_count": null,
      "outputs": [
        {
          "output_type": "execute_result",
          "data": {
            "text/html": [
              "\n",
              "  <div id=\"df-6cb290dd-7274-4326-b5f8-f68aae4d6ec1\">\n",
              "    <div class=\"colab-df-container\">\n",
              "      <div>\n",
              "<style scoped>\n",
              "    .dataframe tbody tr th:only-of-type {\n",
              "        vertical-align: middle;\n",
              "    }\n",
              "\n",
              "    .dataframe tbody tr th {\n",
              "        vertical-align: top;\n",
              "    }\n",
              "\n",
              "    .dataframe thead th {\n",
              "        text-align: right;\n",
              "    }\n",
              "</style>\n",
              "<table border=\"1\" class=\"dataframe\">\n",
              "  <thead>\n",
              "    <tr style=\"text-align: right;\">\n",
              "      <th></th>\n",
              "      <th>is_fake</th>\n",
              "      <th>subject</th>\n",
              "      <th>pred</th>\n",
              "    </tr>\n",
              "  </thead>\n",
              "  <tbody>\n",
              "    <tr>\n",
              "      <th>9475</th>\n",
              "      <td>True</td>\n",
              "      <td>US_News</td>\n",
              "      <td>True</td>\n",
              "    </tr>\n",
              "    <tr>\n",
              "      <th>18140</th>\n",
              "      <td>False</td>\n",
              "      <td>politicsNews</td>\n",
              "      <td>False</td>\n",
              "    </tr>\n",
              "    <tr>\n",
              "      <th>6115</th>\n",
              "      <td>True</td>\n",
              "      <td>News</td>\n",
              "      <td>True</td>\n",
              "    </tr>\n",
              "    <tr>\n",
              "      <th>13852</th>\n",
              "      <td>True</td>\n",
              "      <td>left-news</td>\n",
              "      <td>False</td>\n",
              "    </tr>\n",
              "    <tr>\n",
              "      <th>18781</th>\n",
              "      <td>True</td>\n",
              "      <td>Middle-east</td>\n",
              "      <td>False</td>\n",
              "    </tr>\n",
              "  </tbody>\n",
              "</table>\n",
              "</div>\n",
              "      <button class=\"colab-df-convert\" onclick=\"convertToInteractive('df-6cb290dd-7274-4326-b5f8-f68aae4d6ec1')\"\n",
              "              title=\"Convert this dataframe to an interactive table.\"\n",
              "              style=\"display:none;\">\n",
              "        \n",
              "  <svg xmlns=\"http://www.w3.org/2000/svg\" height=\"24px\"viewBox=\"0 0 24 24\"\n",
              "       width=\"24px\">\n",
              "    <path d=\"M0 0h24v24H0V0z\" fill=\"none\"/>\n",
              "    <path d=\"M18.56 5.44l.94 2.06.94-2.06 2.06-.94-2.06-.94-.94-2.06-.94 2.06-2.06.94zm-11 1L8.5 8.5l.94-2.06 2.06-.94-2.06-.94L8.5 2.5l-.94 2.06-2.06.94zm10 10l.94 2.06.94-2.06 2.06-.94-2.06-.94-.94-2.06-.94 2.06-2.06.94z\"/><path d=\"M17.41 7.96l-1.37-1.37c-.4-.4-.92-.59-1.43-.59-.52 0-1.04.2-1.43.59L10.3 9.45l-7.72 7.72c-.78.78-.78 2.05 0 2.83L4 21.41c.39.39.9.59 1.41.59.51 0 1.02-.2 1.41-.59l7.78-7.78 2.81-2.81c.8-.78.8-2.07 0-2.86zM5.41 20L4 18.59l7.72-7.72 1.47 1.35L5.41 20z\"/>\n",
              "  </svg>\n",
              "      </button>\n",
              "      \n",
              "  <style>\n",
              "    .colab-df-container {\n",
              "      display:flex;\n",
              "      flex-wrap:wrap;\n",
              "      gap: 12px;\n",
              "    }\n",
              "\n",
              "    .colab-df-convert {\n",
              "      background-color: #E8F0FE;\n",
              "      border: none;\n",
              "      border-radius: 50%;\n",
              "      cursor: pointer;\n",
              "      display: none;\n",
              "      fill: #1967D2;\n",
              "      height: 32px;\n",
              "      padding: 0 0 0 0;\n",
              "      width: 32px;\n",
              "    }\n",
              "\n",
              "    .colab-df-convert:hover {\n",
              "      background-color: #E2EBFA;\n",
              "      box-shadow: 0px 1px 2px rgba(60, 64, 67, 0.3), 0px 1px 3px 1px rgba(60, 64, 67, 0.15);\n",
              "      fill: #174EA6;\n",
              "    }\n",
              "\n",
              "    [theme=dark] .colab-df-convert {\n",
              "      background-color: #3B4455;\n",
              "      fill: #D2E3FC;\n",
              "    }\n",
              "\n",
              "    [theme=dark] .colab-df-convert:hover {\n",
              "      background-color: #434B5C;\n",
              "      box-shadow: 0px 1px 3px 1px rgba(0, 0, 0, 0.15);\n",
              "      filter: drop-shadow(0px 1px 2px rgba(0, 0, 0, 0.3));\n",
              "      fill: #FFFFFF;\n",
              "    }\n",
              "  </style>\n",
              "\n",
              "      <script>\n",
              "        const buttonEl =\n",
              "          document.querySelector('#df-6cb290dd-7274-4326-b5f8-f68aae4d6ec1 button.colab-df-convert');\n",
              "        buttonEl.style.display =\n",
              "          google.colab.kernel.accessAllowed ? 'block' : 'none';\n",
              "\n",
              "        async function convertToInteractive(key) {\n",
              "          const element = document.querySelector('#df-6cb290dd-7274-4326-b5f8-f68aae4d6ec1');\n",
              "          const dataTable =\n",
              "            await google.colab.kernel.invokeFunction('convertToInteractive',\n",
              "                                                     [key], {});\n",
              "          if (!dataTable) return;\n",
              "\n",
              "          const docLinkHtml = 'Like what you see? Visit the ' +\n",
              "            '<a target=\"_blank\" href=https://colab.research.google.com/notebooks/data_table.ipynb>data table notebook</a>'\n",
              "            + ' to learn more about interactive tables.';\n",
              "          element.innerHTML = '';\n",
              "          dataTable['output_type'] = 'display_data';\n",
              "          await google.colab.output.renderOutput(dataTable, element);\n",
              "          const docLink = document.createElement('div');\n",
              "          docLink.innerHTML = docLinkHtml;\n",
              "          element.appendChild(docLink);\n",
              "        }\n",
              "      </script>\n",
              "    </div>\n",
              "  </div>\n",
              "  "
            ],
            "text/plain": [
              "       is_fake       subject   pred\n",
              "9475      True       US_News   True\n",
              "18140    False  politicsNews  False\n",
              "6115      True          News   True\n",
              "13852     True     left-news  False\n",
              "18781     True   Middle-east  False"
            ]
          },
          "metadata": {},
          "execution_count": 92
        }
      ]
    },
    {
      "cell_type": "code",
      "source": [
        "df_errors_nb2 = results2[results2['is_fake'] != results2['pred']]"
      ],
      "metadata": {
        "id": "vHQYyk7rTEgf"
      },
      "execution_count": null,
      "outputs": []
    },
    {
      "cell_type": "code",
      "source": [
        "nb2_errors = df_errors_nb2.groupby('subject').size()\n",
        "nb2_errors"
      ],
      "metadata": {
        "colab": {
          "base_uri": "https://localhost:8080/"
        },
        "id": "4j2ngkPmTHaS",
        "outputId": "807a1bc0-fa7d-4d14-f74c-f8a1dee60679"
      },
      "execution_count": null,
      "outputs": [
        {
          "output_type": "execute_result",
          "data": {
            "text/plain": [
              "subject\n",
              "Government News     74\n",
              "Middle-east         21\n",
              "News                60\n",
              "US_News             20\n",
              "left-news           91\n",
              "politicsNews       508\n",
              "worldnews          130\n",
              "dtype: int64"
            ]
          },
          "metadata": {},
          "execution_count": 94
        }
      ]
    },
    {
      "cell_type": "code",
      "source": [
        "plt.pie(nb2_errors, labels = nb2_errors.index.values.tolist(), autopct='%1.0f%%', colors=colorsitos, shadow=True)\n",
        "plt.title('Noticias mal clasificadas (Naive Bayes) por temática (title + text)')\n",
        "plt.savefig(\"pie-NB-mal-clasificadas-con-titulo.pdf\", bbox_inches='tight')\n",
        "plt.show() "
      ],
      "metadata": {
        "colab": {
          "base_uri": "https://localhost:8080/",
          "height": 264
        },
        "id": "A97iyauQTLhJ",
        "outputId": "23a6121a-d78e-4a47-becf-4b698f1911e4"
      },
      "execution_count": null,
      "outputs": [
        {
          "output_type": "display_data",
          "data": {
            "image/png": "[encoded data removed]",
            "text/plain": [
              "<Figure size 432x288 with 1 Axes>"
            ]
          },
          "metadata": {}
        }
      ]
    },
    {
      "cell_type": "markdown",
      "source": [
        "#### **Decision Tree**\n",
        "\n",
        "Los **árboles de decisión** son una técnica de aprendizaje supervisado en la que se recrea un árbol cuyos nodos internos representan atributos y sus conexiones/aristas representan valores de esos atributos. Las hojas de este árbol corresponderán a las clases que tiene nuestro problema. El árbol solo puede tomar decisiones discretas, por lo que en caso de tener atributos continuos se deberá discretizar el intervalo. \n",
        "\n",
        "Por otro lado, el gran problema de los árboles de decisión es que tienden fuertemente al *overfitting*. En teoría, si dejáramos al árbol crear la mejor estructura que pueda, lo que haría sería dividir tanto los datos que en cada nodo hoja quedaría 1 solo dato en el peor caso, con un accuracy de 100% ya que la estructura se adaptó para clasificar bien todos los datos con los que se le entrenó. Sin embargo, es difícil que esa estructura aplique para otros datos. Por esta razón se setea un segundo hiperparámetro llamado ``max_depth``, que intenta evitar el overfitting poniéndole limites a la clasificación del árbol en profundidad. "
      ],
      "metadata": {
        "id": "QSYxS5pgIu8k"
      }
    },
    {
      "cell_type": "markdown",
      "source": [
        "A continuación se aplica el método de clasificación de Decision Tree considerando **sólo los textos** de las noticias:"
      ],
      "metadata": {
        "id": "qtzTEWUfXor7"
      }
    },
    {
      "cell_type": "code",
      "source": [
        "dtree = DecisionTreeClassifier(max_depth=10, random_state=0).fit(Xtrain, ytrain['is_fake'])\n",
        "print('\\nAccuracy score :', dtree.score(Xtest, ytest['is_fake']))"
      ],
      "metadata": {
        "colab": {
          "base_uri": "https://localhost:8080/"
        },
        "id": "Mh5CRSHaIp53",
        "outputId": "af0263ac-28d8-48b6-80bd-74f6333f99ee"
      },
      "execution_count": null,
      "outputs": [
        {
          "output_type": "stream",
          "name": "stdout",
          "text": [
            "\n",
            "Accuracy score : 0.8971867007672635\n"
          ]
        }
      ]
    },
    {
      "cell_type": "markdown",
      "source": [
        "y ahora se aplica Decision Tree considerando tanto los **títulos** como los **textos** de las noticias:"
      ],
      "metadata": {
        "id": "nKW0JSTfYB_d"
      }
    },
    {
      "cell_type": "code",
      "source": [
        "dtree2 = DecisionTreeClassifier(max_depth=10, random_state=0).fit(X2train, y2train['is_fake'])\n",
        "print('\\nAccuracy score :', dtree2.score(X2test, y2test['is_fake']))"
      ],
      "metadata": {
        "colab": {
          "base_uri": "https://localhost:8080/"
        },
        "id": "3nwAnAtmbpzA",
        "outputId": "8228ec3c-f921-4432-8318-60c4fcb9f458"
      },
      "execution_count": null,
      "outputs": [
        {
          "output_type": "stream",
          "name": "stdout",
          "text": [
            "\n",
            "Accuracy score : 0.8920716112531969\n"
          ]
        }
      ]
    },
    {
      "cell_type": "markdown",
      "source": [
        "Podemos observar que, pese a que los accuracys obtenidos son bastante similares, al agregar los títulos de las noticias el accuracy baja de un **89.71%** a un **89.2%**. También podemos apreciar que los accuracys entre Naive Bayes y Decision Tree son muy similares, y aunque Naive Bayes alcanza el mayor accuracy con un 89.85% al solo considerar los textos, al considerar los títulos más el texto, Decision Tree tiene un mejor accuracy que Naive Bayes."
      ],
      "metadata": {
        "id": "BRNGIoGTYWdn"
      }
    },
    {
      "cell_type": "markdown",
      "source": [
        "Analicemos un poco más los resultados del Decision Tree:"
      ],
      "metadata": {
        "id": "gAgI1wCCY_eS"
      }
    },
    {
      "cell_type": "code",
      "source": [
        "ypred = dtree.predict(Xtest)\n",
        "y2pred = dtree2.predict(X2test)\n",
        "cm = confusion_matrix(ytest['is_fake'], ypred)\n",
        "cm2 = confusion_matrix(y2test['is_fake'], y2pred)"
      ],
      "metadata": {
        "id": "HxlfbC40rMPX"
      },
      "execution_count": null,
      "outputs": []
    },
    {
      "cell_type": "code",
      "source": [
        "fig, (ax1, ax2) = plt.subplots(2, figsize=(5,7))\n",
        "categorias = ['Real', 'Fake'] #0: Real, 1: Fake\n",
        "\n",
        "sns.heatmap(cm, annot=True, ax = ax1, fmt='g');\n",
        "ax1.set_xlabel('Predicted labels');\n",
        "ax1.set_ylabel('True labels'); \n",
        "ax1.set_title('Confusion Matrix Decision Tree \\n (only text)'); \n",
        "ax1.xaxis.set_ticklabels(categorias); \n",
        "ax1.yaxis.set_ticklabels(categorias);\n",
        "\n",
        "sns.heatmap(cm2, annot=True, ax = ax2, fmt='g');\n",
        "ax2.set_xlabel('Predicted labels');\n",
        "ax2.set_ylabel('True labels'); \n",
        "ax2.set_title('Confusion Matrix Decision Tree \\n (title + text)'); \n",
        "ax2.xaxis.set_ticklabels(categorias); \n",
        "ax2.yaxis.set_ticklabels(categorias);\n",
        "\n",
        "fig.tight_layout()\n",
        "plt.show()\n",
        "\n",
        "fig.savefig(\"CM-DT.pdf\", bbox_inches='tight')"
      ],
      "metadata": {
        "colab": {
          "base_uri": "https://localhost:8080/",
          "height": 513
        },
        "id": "J1J28fozi7zO",
        "outputId": "bfcd87e0-3210-423d-d060-add22a27e94f"
      },
      "execution_count": null,
      "outputs": [
        {
          "output_type": "display_data",
          "data": {
            "image/png": "[encoded data removed]",
            "text/plain": [
              "<Figure size 360x504 with 4 Axes>"
            ]
          },
          "metadata": {
            "needs_background": "light"
          }
        }
      ]
    },
    {
      "cell_type": "markdown",
      "source": [
        "**Reporte de precision y recall:**\n",
        "\n",
        "Recordar que el vector `y` viene de la columna del dataset `is_fake`, que es True (1) cuando la noticia es falsa y es False (0) cuando la noticia es clasificada como real."
      ],
      "metadata": {
        "id": "R8yHyNswroS0"
      }
    },
    {
      "cell_type": "code",
      "source": [
        "print('Classification Report (only text):\\n\\n',classification_report(ytest['is_fake'], ypred))"
      ],
      "metadata": {
        "colab": {
          "base_uri": "https://localhost:8080/"
        },
        "id": "qIGoNg3MI5cY",
        "outputId": "5a5e86c5-d075-4391-db2a-e0783398ecaf"
      },
      "execution_count": null,
      "outputs": [
        {
          "output_type": "stream",
          "name": "stdout",
          "text": [
            "Classification Report (only text):\n",
            "\n",
            "               precision    recall  f1-score   support\n",
            "\n",
            "       False       0.90      0.91      0.91      4261\n",
            "        True       0.90      0.88      0.89      3559\n",
            "\n",
            "    accuracy                           0.90      7820\n",
            "   macro avg       0.90      0.90      0.90      7820\n",
            "weighted avg       0.90      0.90      0.90      7820\n",
            "\n"
          ]
        }
      ]
    },
    {
      "cell_type": "code",
      "source": [
        "print('Classification Report (text + title):\\n\\n',classification_report(y2test['is_fake'], y2pred))"
      ],
      "metadata": {
        "colab": {
          "base_uri": "https://localhost:8080/"
        },
        "id": "zdNt8H67bxVR",
        "outputId": "4b5758f7-d69b-4eae-fbdb-8cec67727a63"
      },
      "execution_count": null,
      "outputs": [
        {
          "output_type": "stream",
          "name": "stdout",
          "text": [
            "Classification Report (text + title):\n",
            "\n",
            "               precision    recall  f1-score   support\n",
            "\n",
            "       False       0.89      0.91      0.90      4261\n",
            "        True       0.89      0.87      0.88      3559\n",
            "\n",
            "    accuracy                           0.89      7820\n",
            "   macro avg       0.89      0.89      0.89      7820\n",
            "weighted avg       0.89      0.89      0.89      7820\n",
            "\n"
          ]
        }
      ]
    },
    {
      "cell_type": "markdown",
      "source": [
        "**Noticias mal clasificadas por temática:**\n",
        "\n",
        "A continuación se muestra un gráfico de torta que muestra las noticias mal clasificadas (solo considerando su texto), separadas por temáticas:"
      ],
      "metadata": {
        "id": "viL3H63MSTiH"
      }
    },
    {
      "cell_type": "code",
      "source": [
        "results = ytest.copy()\n",
        "results['pred'] = ypred\n",
        "results.head()"
      ],
      "metadata": {
        "colab": {
          "base_uri": "https://localhost:8080/",
          "height": 206
        },
        "id": "_WV8xghDFrX5",
        "outputId": "186e0230-ddd0-4e8b-ea68-34e36781bce3"
      },
      "execution_count": null,
      "outputs": [
        {
          "output_type": "execute_result",
          "data": {
            "text/html": [
              "\n",
              "  <div id=\"df-e0bf0faf-1fc0-4cd2-9777-86ec0c4fe661\">\n",
              "    <div class=\"colab-df-container\">\n",
              "      <div>\n",
              "<style scoped>\n",
              "    .dataframe tbody tr th:only-of-type {\n",
              "        vertical-align: middle;\n",
              "    }\n",
              "\n",
              "    .dataframe tbody tr th {\n",
              "        vertical-align: top;\n",
              "    }\n",
              "\n",
              "    .dataframe thead th {\n",
              "        text-align: right;\n",
              "    }\n",
              "</style>\n",
              "<table border=\"1\" class=\"dataframe\">\n",
              "  <thead>\n",
              "    <tr style=\"text-align: right;\">\n",
              "      <th></th>\n",
              "      <th>is_fake</th>\n",
              "      <th>subject</th>\n",
              "      <th>pred</th>\n",
              "    </tr>\n",
              "  </thead>\n",
              "  <tbody>\n",
              "    <tr>\n",
              "      <th>9475</th>\n",
              "      <td>True</td>\n",
              "      <td>US_News</td>\n",
              "      <td>True</td>\n",
              "    </tr>\n",
              "    <tr>\n",
              "      <th>18140</th>\n",
              "      <td>False</td>\n",
              "      <td>politicsNews</td>\n",
              "      <td>False</td>\n",
              "    </tr>\n",
              "    <tr>\n",
              "      <th>6115</th>\n",
              "      <td>True</td>\n",
              "      <td>News</td>\n",
              "      <td>True</td>\n",
              "    </tr>\n",
              "    <tr>\n",
              "      <th>13852</th>\n",
              "      <td>True</td>\n",
              "      <td>left-news</td>\n",
              "      <td>False</td>\n",
              "    </tr>\n",
              "    <tr>\n",
              "      <th>18781</th>\n",
              "      <td>True</td>\n",
              "      <td>Middle-east</td>\n",
              "      <td>False</td>\n",
              "    </tr>\n",
              "  </tbody>\n",
              "</table>\n",
              "</div>\n",
              "      <button class=\"colab-df-convert\" onclick=\"convertToInteractive('df-e0bf0faf-1fc0-4cd2-9777-86ec0c4fe661')\"\n",
              "              title=\"Convert this dataframe to an interactive table.\"\n",
              "              style=\"display:none;\">\n",
              "        \n",
              "  <svg xmlns=\"http://www.w3.org/2000/svg\" height=\"24px\"viewBox=\"0 0 24 24\"\n",
              "       width=\"24px\">\n",
              "    <path d=\"M0 0h24v24H0V0z\" fill=\"none\"/>\n",
              "    <path d=\"M18.56 5.44l.94 2.06.94-2.06 2.06-.94-2.06-.94-.94-2.06-.94 2.06-2.06.94zm-11 1L8.5 8.5l.94-2.06 2.06-.94-2.06-.94L8.5 2.5l-.94 2.06-2.06.94zm10 10l.94 2.06.94-2.06 2.06-.94-2.06-.94-.94-2.06-.94 2.06-2.06.94z\"/><path d=\"M17.41 7.96l-1.37-1.37c-.4-.4-.92-.59-1.43-.59-.52 0-1.04.2-1.43.59L10.3 9.45l-7.72 7.72c-.78.78-.78 2.05 0 2.83L4 21.41c.39.39.9.59 1.41.59.51 0 1.02-.2 1.41-.59l7.78-7.78 2.81-2.81c.8-.78.8-2.07 0-2.86zM5.41 20L4 18.59l7.72-7.72 1.47 1.35L5.41 20z\"/>\n",
              "  </svg>\n",
              "      </button>\n",
              "      \n",
              "  <style>\n",
              "    .colab-df-container {\n",
              "      display:flex;\n",
              "      flex-wrap:wrap;\n",
              "      gap: 12px;\n",
              "    }\n",
              "\n",
              "    .colab-df-convert {\n",
              "      background-color: #E8F0FE;\n",
              "      border: none;\n",
              "      border-radius: 50%;\n",
              "      cursor: pointer;\n",
              "      display: none;\n",
              "      fill: #1967D2;\n",
              "      height: 32px;\n",
              "      padding: 0 0 0 0;\n",
              "      width: 32px;\n",
              "    }\n",
              "\n",
              "    .colab-df-convert:hover {\n",
              "      background-color: #E2EBFA;\n",
              "      box-shadow: 0px 1px 2px rgba(60, 64, 67, 0.3), 0px 1px 3px 1px rgba(60, 64, 67, 0.15);\n",
              "      fill: #174EA6;\n",
              "    }\n",
              "\n",
              "    [theme=dark] .colab-df-convert {\n",
              "      background-color: #3B4455;\n",
              "      fill: #D2E3FC;\n",
              "    }\n",
              "\n",
              "    [theme=dark] .colab-df-convert:hover {\n",
              "      background-color: #434B5C;\n",
              "      box-shadow: 0px 1px 3px 1px rgba(0, 0, 0, 0.15);\n",
              "      filter: drop-shadow(0px 1px 2px rgba(0, 0, 0, 0.3));\n",
              "      fill: #FFFFFF;\n",
              "    }\n",
              "  </style>\n",
              "\n",
              "      <script>\n",
              "        const buttonEl =\n",
              "          document.querySelector('#df-e0bf0faf-1fc0-4cd2-9777-86ec0c4fe661 button.colab-df-convert');\n",
              "        buttonEl.style.display =\n",
              "          google.colab.kernel.accessAllowed ? 'block' : 'none';\n",
              "\n",
              "        async function convertToInteractive(key) {\n",
              "          const element = document.querySelector('#df-e0bf0faf-1fc0-4cd2-9777-86ec0c4fe661');\n",
              "          const dataTable =\n",
              "            await google.colab.kernel.invokeFunction('convertToInteractive',\n",
              "                                                     [key], {});\n",
              "          if (!dataTable) return;\n",
              "\n",
              "          const docLinkHtml = 'Like what you see? Visit the ' +\n",
              "            '<a target=\"_blank\" href=https://colab.research.google.com/notebooks/data_table.ipynb>data table notebook</a>'\n",
              "            + ' to learn more about interactive tables.';\n",
              "          element.innerHTML = '';\n",
              "          dataTable['output_type'] = 'display_data';\n",
              "          await google.colab.output.renderOutput(dataTable, element);\n",
              "          const docLink = document.createElement('div');\n",
              "          docLink.innerHTML = docLinkHtml;\n",
              "          element.appendChild(docLink);\n",
              "        }\n",
              "      </script>\n",
              "    </div>\n",
              "  </div>\n",
              "  "
            ],
            "text/plain": [
              "       is_fake       subject   pred\n",
              "9475      True       US_News   True\n",
              "18140    False  politicsNews  False\n",
              "6115      True          News   True\n",
              "13852     True     left-news  False\n",
              "18781     True   Middle-east  False"
            ]
          },
          "metadata": {},
          "execution_count": 102
        }
      ]
    },
    {
      "cell_type": "code",
      "source": [
        "df_errors_dtree = results[results['is_fake'] != results['pred']]"
      ],
      "metadata": {
        "id": "0Sc78U35GDRL"
      },
      "execution_count": null,
      "outputs": []
    },
    {
      "cell_type": "code",
      "source": [
        "dtree_errors = df_errors_dtree.groupby('subject').size()\n",
        "dtree_errors"
      ],
      "metadata": {
        "colab": {
          "base_uri": "https://localhost:8080/"
        },
        "id": "eaZed1fSGhTk",
        "outputId": "095a14da-2208-473c-d388-926c1f7ae5e7"
      },
      "execution_count": null,
      "outputs": [
        {
          "output_type": "execute_result",
          "data": {
            "text/plain": [
              "subject\n",
              "Government News     51\n",
              "Middle-east         22\n",
              "News               113\n",
              "US_News             25\n",
              "left-news           80\n",
              "politicsNews       364\n",
              "worldnews          149\n",
              "dtype: int64"
            ]
          },
          "metadata": {},
          "execution_count": 104
        }
      ]
    },
    {
      "cell_type": "code",
      "source": [
        "plt.pie(dtree_errors, labels = dtree_errors.index.values.tolist(), autopct='%1.0f%%', colors=colorsitos, shadow=True)\n",
        "plt.title('Noticias mal clasificadas por el Decision Tree por temática')\n",
        "plt.savefig(\"pie-DT-mal-clasificadas.pdf\", bbox_inches='tight')\n",
        "plt.show() "
      ],
      "metadata": {
        "colab": {
          "base_uri": "https://localhost:8080/",
          "height": 264
        },
        "id": "ilv6rUuIHljM",
        "outputId": "efeddb94-2ffc-4bfa-e17a-cf3942ff11ac"
      },
      "execution_count": null,
      "outputs": [
        {
          "output_type": "display_data",
          "data": {
            "image/png": "[encoded data removed]",
            "text/plain": [
              "<Figure size 432x288 with 1 Axes>"
            ]
          },
          "metadata": {}
        }
      ]
    },
    {
      "cell_type": "markdown",
      "source": [
        "Y ahora se realiza el mismo procedimiento pero considerando los textos sumados a los títulos de las noticias:"
      ],
      "metadata": {
        "id": "YB5MrmgtSmD3"
      }
    },
    {
      "cell_type": "code",
      "source": [
        "results2 = y2test.copy()\n",
        "results2['pred'] = y2pred\n",
        "results2.head()"
      ],
      "metadata": {
        "colab": {
          "base_uri": "https://localhost:8080/",
          "height": 206
        },
        "id": "WJ-ShfAyM6CF",
        "outputId": "26859dcd-94be-412c-b42d-79c3d361ea3c"
      },
      "execution_count": null,
      "outputs": [
        {
          "output_type": "execute_result",
          "data": {
            "text/html": [
              "\n",
              "  <div id=\"df-dfe3d3fa-e4d5-41f0-8bd1-2475ef067cab\">\n",
              "    <div class=\"colab-df-container\">\n",
              "      <div>\n",
              "<style scoped>\n",
              "    .dataframe tbody tr th:only-of-type {\n",
              "        vertical-align: middle;\n",
              "    }\n",
              "\n",
              "    .dataframe tbody tr th {\n",
              "        vertical-align: top;\n",
              "    }\n",
              "\n",
              "    .dataframe thead th {\n",
              "        text-align: right;\n",
              "    }\n",
              "</style>\n",
              "<table border=\"1\" class=\"dataframe\">\n",
              "  <thead>\n",
              "    <tr style=\"text-align: right;\">\n",
              "      <th></th>\n",
              "      <th>is_fake</th>\n",
              "      <th>subject</th>\n",
              "      <th>pred</th>\n",
              "    </tr>\n",
              "  </thead>\n",
              "  <tbody>\n",
              "    <tr>\n",
              "      <th>9475</th>\n",
              "      <td>True</td>\n",
              "      <td>US_News</td>\n",
              "      <td>True</td>\n",
              "    </tr>\n",
              "    <tr>\n",
              "      <th>18140</th>\n",
              "      <td>False</td>\n",
              "      <td>politicsNews</td>\n",
              "      <td>False</td>\n",
              "    </tr>\n",
              "    <tr>\n",
              "      <th>6115</th>\n",
              "      <td>True</td>\n",
              "      <td>News</td>\n",
              "      <td>True</td>\n",
              "    </tr>\n",
              "    <tr>\n",
              "      <th>13852</th>\n",
              "      <td>True</td>\n",
              "      <td>left-news</td>\n",
              "      <td>True</td>\n",
              "    </tr>\n",
              "    <tr>\n",
              "      <th>18781</th>\n",
              "      <td>True</td>\n",
              "      <td>Middle-east</td>\n",
              "      <td>False</td>\n",
              "    </tr>\n",
              "  </tbody>\n",
              "</table>\n",
              "</div>\n",
              "      <button class=\"colab-df-convert\" onclick=\"convertToInteractive('df-dfe3d3fa-e4d5-41f0-8bd1-2475ef067cab')\"\n",
              "              title=\"Convert this dataframe to an interactive table.\"\n",
              "              style=\"display:none;\">\n",
              "        \n",
              "  <svg xmlns=\"http://www.w3.org/2000/svg\" height=\"24px\"viewBox=\"0 0 24 24\"\n",
              "       width=\"24px\">\n",
              "    <path d=\"M0 0h24v24H0V0z\" fill=\"none\"/>\n",
              "    <path d=\"M18.56 5.44l.94 2.06.94-2.06 2.06-.94-2.06-.94-.94-2.06-.94 2.06-2.06.94zm-11 1L8.5 8.5l.94-2.06 2.06-.94-2.06-.94L8.5 2.5l-.94 2.06-2.06.94zm10 10l.94 2.06.94-2.06 2.06-.94-2.06-.94-.94-2.06-.94 2.06-2.06.94z\"/><path d=\"M17.41 7.96l-1.37-1.37c-.4-.4-.92-.59-1.43-.59-.52 0-1.04.2-1.43.59L10.3 9.45l-7.72 7.72c-.78.78-.78 2.05 0 2.83L4 21.41c.39.39.9.59 1.41.59.51 0 1.02-.2 1.41-.59l7.78-7.78 2.81-2.81c.8-.78.8-2.07 0-2.86zM5.41 20L4 18.59l7.72-7.72 1.47 1.35L5.41 20z\"/>\n",
              "  </svg>\n",
              "      </button>\n",
              "      \n",
              "  <style>\n",
              "    .colab-df-container {\n",
              "      display:flex;\n",
              "      flex-wrap:wrap;\n",
              "      gap: 12px;\n",
              "    }\n",
              "\n",
              "    .colab-df-convert {\n",
              "      background-color: #E8F0FE;\n",
              "      border: none;\n",
              "      border-radius: 50%;\n",
              "      cursor: pointer;\n",
              "      display: none;\n",
              "      fill: #1967D2;\n",
              "      height: 32px;\n",
              "      padding: 0 0 0 0;\n",
              "      width: 32px;\n",
              "    }\n",
              "\n",
              "    .colab-df-convert:hover {\n",
              "      background-color: #E2EBFA;\n",
              "      box-shadow: 0px 1px 2px rgba(60, 64, 67, 0.3), 0px 1px 3px 1px rgba(60, 64, 67, 0.15);\n",
              "      fill: #174EA6;\n",
              "    }\n",
              "\n",
              "    [theme=dark] .colab-df-convert {\n",
              "      background-color: #3B4455;\n",
              "      fill: #D2E3FC;\n",
              "    }\n",
              "\n",
              "    [theme=dark] .colab-df-convert:hover {\n",
              "      background-color: #434B5C;\n",
              "      box-shadow: 0px 1px 3px 1px rgba(0, 0, 0, 0.15);\n",
              "      filter: drop-shadow(0px 1px 2px rgba(0, 0, 0, 0.3));\n",
              "      fill: #FFFFFF;\n",
              "    }\n",
              "  </style>\n",
              "\n",
              "      <script>\n",
              "        const buttonEl =\n",
              "          document.querySelector('#df-dfe3d3fa-e4d5-41f0-8bd1-2475ef067cab button.colab-df-convert');\n",
              "        buttonEl.style.display =\n",
              "          google.colab.kernel.accessAllowed ? 'block' : 'none';\n",
              "\n",
              "        async function convertToInteractive(key) {\n",
              "          const element = document.querySelector('#df-dfe3d3fa-e4d5-41f0-8bd1-2475ef067cab');\n",
              "          const dataTable =\n",
              "            await google.colab.kernel.invokeFunction('convertToInteractive',\n",
              "                                                     [key], {});\n",
              "          if (!dataTable) return;\n",
              "\n",
              "          const docLinkHtml = 'Like what you see? Visit the ' +\n",
              "            '<a target=\"_blank\" href=https://colab.research.google.com/notebooks/data_table.ipynb>data table notebook</a>'\n",
              "            + ' to learn more about interactive tables.';\n",
              "          element.innerHTML = '';\n",
              "          dataTable['output_type'] = 'display_data';\n",
              "          await google.colab.output.renderOutput(dataTable, element);\n",
              "          const docLink = document.createElement('div');\n",
              "          docLink.innerHTML = docLinkHtml;\n",
              "          element.appendChild(docLink);\n",
              "        }\n",
              "      </script>\n",
              "    </div>\n",
              "  </div>\n",
              "  "
            ],
            "text/plain": [
              "       is_fake       subject   pred\n",
              "9475      True       US_News   True\n",
              "18140    False  politicsNews  False\n",
              "6115      True          News   True\n",
              "13852     True     left-news   True\n",
              "18781     True   Middle-east  False"
            ]
          },
          "metadata": {},
          "execution_count": 106
        }
      ]
    },
    {
      "cell_type": "code",
      "source": [
        "df_errors_dtree2 = results2[results2['is_fake'] != results2['pred']]"
      ],
      "metadata": {
        "id": "HHRSicV4Nj3_"
      },
      "execution_count": null,
      "outputs": []
    },
    {
      "cell_type": "code",
      "source": [
        "dtree2_errors = df_errors_dtree2.groupby('subject').size()\n",
        "dtree2_errors"
      ],
      "metadata": {
        "colab": {
          "base_uri": "https://localhost:8080/"
        },
        "id": "SL-ICxO2Npka",
        "outputId": "dc6791b1-73ba-4d1a-a13f-f3019b9ff697"
      },
      "execution_count": null,
      "outputs": [
        {
          "output_type": "execute_result",
          "data": {
            "text/plain": [
              "subject\n",
              "Government News     51\n",
              "Middle-east         28\n",
              "News               107\n",
              "US_News             23\n",
              "left-news           87\n",
              "politicsNews       391\n",
              "worldnews          157\n",
              "dtype: int64"
            ]
          },
          "metadata": {},
          "execution_count": 108
        }
      ]
    },
    {
      "cell_type": "code",
      "source": [
        "plt.pie(dtree2_errors, labels = dtree2_errors.index.values.tolist(), autopct='%1.0f%%', colors=colorsitos, shadow=True)\n",
        "plt.title('Noticias mal clasificadas por el Decision Tree por temática (title + text)')\n",
        "plt.savefig(\"pie-DT-mal-clasificadas-con-titulo.pdf\", bbox_inches='tight')\n",
        "plt.show() "
      ],
      "metadata": {
        "colab": {
          "base_uri": "https://localhost:8080/",
          "height": 264
        },
        "id": "7SuTFzB0Nuci",
        "outputId": "5b6edd75-5267-41e1-ebf2-cfc3d459c2a2"
      },
      "execution_count": null,
      "outputs": [
        {
          "output_type": "display_data",
          "data": {
            "image/png": "[encoded data removed]",
            "text/plain": [
              "<Figure size 432x288 with 1 Axes>"
            ]
          },
          "metadata": {}
        }
      ]
    }
  ]
}